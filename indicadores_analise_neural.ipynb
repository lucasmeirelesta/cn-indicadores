{
 "cells": [
  {
   "cell_type": "code",
   "execution_count": 6,
   "metadata": {
    "collapsed": true
   },
   "outputs": [],
   "source": [
    "import sqlalchemy\n",
    "from sqlalchemy.sql import text\n",
    "import pandas as pd\n",
    "import glob\n",
    "import os\n",
    "import pickle\n",
    "import seaborn as sns\n",
    "import datetime\n",
    "from copy import deepcopy\n",
    "import yaml"
   ]
  },
  {
   "cell_type": "code",
   "execution_count": 2,
   "metadata": {
    "collapsed": true
   },
   "outputs": [],
   "source": [
    "with open('server_config.yaml', 'r') as f:\n",
    "        server = yaml.load(f)\n",
    "\n",
    "host = server['host']\n",
    "database = server['database']\n",
    "user = server['user']\n",
    "password = server['password']"
   ]
  },
  {
   "cell_type": "code",
   "execution_count": 3,
   "metadata": {
    "collapsed": true
   },
   "outputs": [],
   "source": [
    "url = 'postgresql://{}:{}@{}/{}'\n",
    "url = url.format(user, password, host, database)\n",
    "conn = sqlalchemy.create_engine(url)"
   ]
  },
  {
   "cell_type": "code",
   "execution_count": 85,
   "metadata": {
    "collapsed": true
   },
   "outputs": [],
   "source": [
    "indice = pd.read_sql_query('SELECT * FROM indicadores.camdep_apoio_governo_bancada_voto_parlamentar_raw',\n",
    "                                        conn)\n",
    "\n",
    "votacao = pd.read_sql_query('SELECT * FROM desenv.cam_votacao_bancada_governo',\n",
    "                                        conn)"
   ]
  },
  {
   "cell_type": "code",
   "execution_count": 86,
   "metadata": {},
   "outputs": [],
   "source": [
    "analise = votacao.merge(indice, on='votacao_id')"
   ]
  },
  {
   "cell_type": "code",
   "execution_count": 87,
   "metadata": {},
   "outputs": [
    {
     "data": {
      "text/plain": [
       "Index(['index_x', 'ano', 'codproposicao_x', 'codsessao_x', 'datavotacao',\n",
       "       'numero', 'orientacao', 'partido_bloco', 'sigla', 'tipo', 'votacao_id',\n",
       "       'level_0', 'index_y', 'DEM', 'PCDOB', 'PDT', 'PEN', 'PHS', 'PMB',\n",
       "       'PMDB', 'PMN', 'PP', 'PPS', 'PR', 'PRB', 'PROS', 'PRP', 'PRTB', 'PSB',\n",
       "       'PSC', 'PSD', 'PSDB', 'PSDC', 'PSL', 'PSOL', 'PSTU', 'PT', 'PTB', 'PTC',\n",
       "       'PTDOB', 'PTN', 'PV', 'REDE', 'S.PART.', 'SD', 'Apoio Médio',\n",
       "       'datavotacao_x', 'codsessao_y', 'datavotacao_y', 'codproposicao_y'],\n",
       "      dtype='object')"
      ]
     },
     "execution_count": 87,
     "metadata": {},
     "output_type": "execute_result"
    }
   ],
   "source": [
    "analise.columns"
   ]
  },
  {
   "cell_type": "code",
   "execution_count": 88,
   "metadata": {},
   "outputs": [],
   "source": [
    "del analise['codproposicao_x']\n",
    "del analise['codproposicao_y']\n",
    "del analise['datavotacao_y']\n",
    "del analise['codsessao_y']\n",
    "del analise['datavotacao_x']\n",
    "del analise['index_x']\n",
    "del analise['votacao_id']\n",
    "del analise['partido_bloco']\n",
    "del analise['level_0']\n",
    "del analise['index_y']"
   ]
  },
  {
   "cell_type": "code",
   "execution_count": 89,
   "metadata": {},
   "outputs": [],
   "source": [
    "del analise['numero']"
   ]
  },
  {
   "cell_type": "code",
   "execution_count": 92,
   "metadata": {},
   "outputs": [],
   "source": [
    "analise = analise.fillna(0)"
   ]
  },
  {
   "cell_type": "code",
   "execution_count": 93,
   "metadata": {},
   "outputs": [
    {
     "data": {
      "text/plain": [
       "Index(['ano', 'codsessao_x', 'datavotacao', 'orientacao', 'sigla', 'tipo',\n",
       "       'DEM', 'PCDOB', 'PDT', 'PEN', 'PHS', 'PMB', 'PMDB', 'PMN', 'PP', 'PPS',\n",
       "       'PR', 'PRB', 'PROS', 'PRP', 'PRTB', 'PSB', 'PSC', 'PSD', 'PSDB', 'PSDC',\n",
       "       'PSL', 'PSOL', 'PSTU', 'PT', 'PTB', 'PTC', 'PTDOB', 'PTN', 'PV', 'REDE',\n",
       "       'S.PART.', 'SD', 'Apoio Médio'],\n",
       "      dtype='object')"
      ]
     },
     "execution_count": 93,
     "metadata": {},
     "output_type": "execute_result"
    }
   ],
   "source": [
    "analise.columns"
   ]
  },
  {
   "cell_type": "code",
   "execution_count": 94,
   "metadata": {},
   "outputs": [],
   "source": [
    "analise['year'] = analise['datavotacao'].apply(lambda x: x.year)\n",
    "analise['month'] = analise['datavotacao'].apply(lambda x: x.month)\n",
    "analise['day'] = analise['datavotacao'].apply(lambda x: x.weekday())\n",
    "analise['weekday'] = analise['datavotacao'].apply(lambda x: x.day)\n",
    "analise['hour'] = analise['datavotacao'].apply(lambda x: x.hour)"
   ]
  },
  {
   "cell_type": "code",
   "execution_count": 75,
   "metadata": {},
   "outputs": [],
   "source": [
    "del indice['level_0']\n",
    "del indice['index']"
   ]
  },
  {
   "cell_type": "code",
   "execution_count": 80,
   "metadata": {},
   "outputs": [],
   "source": [
    "del indice['datavotacao_x']\n",
    "del indice['datavotacao_y']"
   ]
  },
  {
   "cell_type": "code",
   "execution_count": 82,
   "metadata": {},
   "outputs": [],
   "source": [
    "del indice['votacao_id']"
   ]
  },
  {
   "cell_type": "code",
   "execution_count": 84,
   "metadata": {},
   "outputs": [
    {
     "data": {
      "text/plain": [
       "Index(['DEM', 'PCDOB', 'PDT', 'PEN', 'PHS', 'PMB', 'PMDB', 'PMN', 'PP', 'PPS',\n",
       "       'PR', 'PRB', 'PROS', 'PRP', 'PRTB', 'PSB', 'PSC', 'PSD', 'PSDB', 'PSDC',\n",
       "       'PSL', 'PSOL', 'PSTU', 'PT', 'PTB', 'PTC', 'PTDOB', 'PTN', 'PV', 'REDE',\n",
       "       'S.PART.', 'SD', 'Apoio Médio', 'codsessao', 'codproposicao', 'year',\n",
       "       'month', 'day', 'weekday', 'hour'],\n",
       "      dtype='object')"
      ]
     },
     "execution_count": 84,
     "metadata": {},
     "output_type": "execute_result"
    }
   ],
   "source": [
    "indice.columns"
   ]
  },
  {
   "cell_type": "code",
   "execution_count": null,
   "metadata": {
    "collapsed": true
   },
   "outputs": [],
   "source": []
  }
 ],
 "metadata": {
  "kernelspec": {
   "display_name": "Python 3",
   "language": "python",
   "name": "python3"
  },
  "language_info": {
   "codemirror_mode": {
    "name": "ipython",
    "version": 3
   },
   "file_extension": ".py",
   "mimetype": "text/x-python",
   "name": "python",
   "nbconvert_exporter": "python",
   "pygments_lexer": "ipython3",
   "version": "3.5.2+"
  }
 },
 "nbformat": 4,
 "nbformat_minor": 2
}
