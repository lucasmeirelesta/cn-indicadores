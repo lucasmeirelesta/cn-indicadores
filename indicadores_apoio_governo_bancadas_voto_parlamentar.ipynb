{
 "cells": [
  {
   "cell_type": "markdown",
   "metadata": {},
   "source": [
    "### APOIO AO GOVERNO DA BANCADA PARTIDARIA POR VOTO PARLAMENTAR\n",
    "    \n",
    "Ranking dos partidos agregado por político.\n",
    "\n",
    "Atualmente usando \n",
    "\n",
    "$DEMA = 2MA - MA(MA)$\n",
    "\n",
    "onde $MA$ é uma moving average, com os parametros:\n",
    "\n",
    "halflife = 90\n",
    "\n",
    "min_periods = 20\n",
    "\n",
    "#### OUTPUT\n",
    "\n",
    "- Gráfico Apoio Ao Governo Da Bancada Partidaria por Voto Parlamentar\n",
    "- CSV Apoio Governo Deputado\n",
    "- CSV Id Proposicao com Orientacao do Governo"
   ]
  },
  {
   "cell_type": "code",
   "execution_count": 16,
   "metadata": {},
   "outputs": [
    {
     "name": "stdout",
     "output_type": "stream",
     "text": [
      "Populating the interactive namespace from numpy and matplotlib\n"
     ]
    },
    {
     "name": "stderr",
     "output_type": "stream",
     "text": [
      "/usr/local/lib/python3.5/dist-packages/IPython/core/magics/pylab.py:160: UserWarning:\n",
      "\n",
      "pylab import has clobbered these variables: ['text', 'f']\n",
      "`%matplotlib` prevents importing * from pylab and numpy\n",
      "\n"
     ]
    }
   ],
   "source": [
    "import sqlalchemy\n",
    "from sqlalchemy.sql import text\n",
    "import pandas as pd\n",
    "import glob\n",
    "import os\n",
    "import pickle\n",
    "import seaborn as sns\n",
    "from copy import deepcopy\n",
    "import yaml\n",
    "\n",
    "%matplotlib inline  \n",
    "%pylab inline\n",
    "pylab.rcParams['figure.figsize'] = (20,12)"
   ]
  },
  {
   "cell_type": "markdown",
   "metadata": {},
   "source": [
    "#### CONECTA AO BANCO"
   ]
  },
  {
   "cell_type": "code",
   "execution_count": 50,
   "metadata": {
    "collapsed": true
   },
   "outputs": [],
   "source": [
    "with open('server_config.yaml', 'r') as f:\n",
    "        server = yaml.load(f)\n",
    "\n",
    "host = server['host']\n",
    "database = server['database']\n",
    "user = server['user']\n",
    "password = server['password']\n",
    "\n",
    "\n",
    "url = 'postgresql://{}:{}@{}/{}'\n",
    "url = url.format(user, password, host, database)\n",
    "conn = sqlalchemy.create_engine(url)"
   ]
  },
  {
   "cell_type": "markdown",
   "metadata": {},
   "source": [
    "##### CONECTA PLOTLY"
   ]
  },
  {
   "cell_type": "code",
   "execution_count": 51,
   "metadata": {},
   "outputs": [],
   "source": [
    "import plotly\n",
    "import plotly.plotly as py\n",
    "import plotly.graph_objs as go\n",
    "\n",
    "plotly.tools.set_credentials_file(username=server['plotly_username_1'], api_key=server['plotly_key_1'])\n",
    "#plotly.tools.set_credentials_file(username=server['plotly_username_2'], api_key=server['plotly_key_2'])"
   ]
  },
  {
   "cell_type": "markdown",
   "metadata": {},
   "source": [
    "#### MOVING AVERAGES"
   ]
  },
  {
   "cell_type": "code",
   "execution_count": 54,
   "metadata": {
    "collapsed": true
   },
   "outputs": [],
   "source": [
    "#### Double Moving Average\n",
    "def dema(series, halflife=30, min_periods=10):\n",
    "    \n",
    "    ma = series.ewm(halflife=halflife, min_periods=min_periods).mean()\n",
    "    \n",
    "    dema = 2*ma - ma.ewm(halflife=halflife).mean()\n",
    "    \n",
    "    return dema\n",
    "\n",
    "#### TRIPLE MOVING AVERAGE\n",
    "def tema(series, halflife=30):\n",
    "    \n",
    "    ma = series.ewm(halflife=halflife).mean()\n",
    "    \n",
    "    dma = ma.ewm(halflife=halflife).mean()\n",
    "    \n",
    "    tma = 3*ma - 3*dma + dma.ewm(halflife=halflife).mean()\n",
    "    \n",
    "    return tma"
   ]
  },
  {
   "cell_type": "markdown",
   "metadata": {},
   "source": [
    "#### INFOS GERAIS"
   ]
  },
  {
   "cell_type": "code",
   "execution_count": 55,
   "metadata": {
    "collapsed": true
   },
   "outputs": [],
   "source": [
    "relacoes = {'SD': ['SDD', 'SOLIDARIED', 'SD'],\n",
    "           'GOV': ['APOIO AO GOVERNO', 'GOV', 'GOV.'],\n",
    "           'DEM': ['DEM', 'PFL'],\n",
    "           'PR': ['PRONA', 'PL', 'PR', 'PST'],\n",
    "           'PTB': ['PAN', 'PTB'],\n",
    "           'PRB': ['PRB', 'PMR'],\n",
    "           'PP': ['PP', 'PPB']}\n",
    "\n",
    "color_pec ='#2980b9'\n",
    "color_pl = '#c0392b'"
   ]
  },
  {
   "cell_type": "code",
   "execution_count": 56,
   "metadata": {
    "collapsed": true
   },
   "outputs": [],
   "source": [
    "def substitui_sigla(sigla):\n",
    "    \n",
    "    for final, values in relacoes.items():\n",
    "        if sigla.upper() in values:\n",
    "            return final\n",
    "    else:\n",
    "        return sigla.upper()"
   ]
  },
  {
   "cell_type": "markdown",
   "metadata": {},
   "source": [
    "##### Load votações dos deputados e votacao_id_table"
   ]
  },
  {
   "cell_type": "code",
   "execution_count": 57,
   "metadata": {},
   "outputs": [],
   "source": [
    "fidelidade_deputado = pd.read_sql_query('SELECT * FROM desenv.votacao_governo_deputados_dia ORDER BY datavotacao DESC',\n",
    "                                        conn)\n",
    "votacao_id_table = pd.read_sql_query('SELECT * FROM desenv.id_proposicao_com_orient_governo',\n",
    "                                        conn)"
   ]
  },
  {
   "cell_type": "markdown",
   "metadata": {},
   "source": [
    "#### Por voto do deputado no partido"
   ]
  },
  {
   "cell_type": "code",
   "execution_count": 58,
   "metadata": {
    "collapsed": true
   },
   "outputs": [],
   "source": [
    "from collections import OrderedDict\n",
    "partidos_todos =  OrderedDict( \n",
    "                    [('PMDB',{'cor': '#EA642A'}),\n",
    "                    ('PT',{'cor': '#D81224'}),\n",
    "                    ('PSDB',{'cor': '#1F5393'}),\n",
    "                    ('PSB',{'cor': '#F7AF32'}),\n",
    "                    ('DEM', {'cor':'#1B8396'}),\n",
    "                    ('PTB', { 'cor':'#27B8E8'}),\n",
    "                    ('PDT', { 'cor':'#9D8577'}),\n",
    "                    ('PP', { 'cor':'#CCBE70'}),\n",
    "                    ('PPS', { 'cor':'#9374AE'}),\n",
    "                    ('PV', { 'cor':'#69963D'}),\n",
    "                    ('PR', { 'cor':'#DAA05C'}),\n",
    "                    ('PCdoB', { 'cor':'#BE4060'}),\n",
    "                    ('PSC', { 'cor':'#F9CCAF'}),\n",
    "                    ('PRB', { 'cor':'#5D879D'}),\n",
    "                    ('PSOL', { 'cor':'#FCDB3A'}),\n",
    "                   # ('PSTU', { 'cor':'#EB757F'}),\n",
    "                    ('PTC', { 'cor':'#E1DBB8'}),\n",
    "                    ('PMN', { 'cor':'#69C3CE'}),\n",
    "                    ('PRP', { 'cor':'#D2D63A'}),\n",
    "                    ('PTdoB', { 'cor':'#7D1317'}),\n",
    "                    ('PCB', { 'cor':'#B8452C'}),\n",
    "                    ('PRTB', { 'cor':'#B18EBD'}),\n",
    "                    ('PHS', { 'cor':'#9FB292'}),\n",
    "                    ('PSDC', { 'cor':'#109745'}),\n",
    "                    ('PCO', { 'cor':'#575656'}),\n",
    "                    ('PTN', { 'cor':'#218CCD'}),\n",
    "                    ('PSL', { 'cor':'#E5E68E'}),\n",
    "                    ('PSD', { 'cor':'#803367'}),\n",
    "                    ('PPL', { 'cor':'#B3B2B2'}),\n",
    "                    ('PEN', { 'cor':'#9F742E'}),\n",
    "                    ('PROS', { 'cor':'#E63D85'}), \n",
    "                    ('REDE', {'cor': '#3AB6C1'})])"
   ]
  },
  {
   "cell_type": "code",
   "execution_count": 59,
   "metadata": {},
   "outputs": [
    {
     "data": {
      "text/html": [
       "<div>\n",
       "<table border=\"1\" class=\"dataframe\">\n",
       "  <thead>\n",
       "    <tr style=\"text-align: right;\">\n",
       "      <th></th>\n",
       "      <th>index</th>\n",
       "      <th>codproposicao_x</th>\n",
       "      <th>tipo_x</th>\n",
       "      <th>numero</th>\n",
       "      <th>ano</th>\n",
       "      <th>codsessao</th>\n",
       "      <th>datavotacao</th>\n",
       "      <th>idecadastro</th>\n",
       "      <th>nome</th>\n",
       "      <th>partido</th>\n",
       "      <th>uf</th>\n",
       "      <th>voto</th>\n",
       "      <th>orientacao</th>\n",
       "      <th>votacao_id</th>\n",
       "      <th>fidelidade</th>\n",
       "      <th>quorum</th>\n",
       "      <th>partido_atualizado</th>\n",
       "      <th>tam_bancada</th>\n",
       "    </tr>\n",
       "  </thead>\n",
       "  <tbody>\n",
       "    <tr>\n",
       "      <th>0</th>\n",
       "      <td>0</td>\n",
       "      <td>2121837</td>\n",
       "      <td>MPV</td>\n",
       "      <td>755</td>\n",
       "      <td>2016</td>\n",
       "      <td>16212</td>\n",
       "      <td>2017-05-17 19:23:00</td>\n",
       "      <td>133439.0</td>\n",
       "      <td>André Figueiredo</td>\n",
       "      <td>PDT</td>\n",
       "      <td>CE</td>\n",
       "      <td>Não</td>\n",
       "      <td>Não</td>\n",
       "      <td>9154465944888420931</td>\n",
       "      <td>1</td>\n",
       "      <td>269</td>\n",
       "      <td>PDT</td>\n",
       "      <td>10</td>\n",
       "    </tr>\n",
       "  </tbody>\n",
       "</table>\n",
       "</div>"
      ],
      "text/plain": [
       "   index  codproposicao_x tipo_x  numero   ano  codsessao         datavotacao  \\\n",
       "0      0          2121837    MPV     755  2016      16212 2017-05-17 19:23:00   \n",
       "\n",
       "   idecadastro              nome partido  uf voto orientacao  \\\n",
       "0     133439.0  André Figueiredo     PDT  CE  Não        Não   \n",
       "\n",
       "            votacao_id  fidelidade  quorum partido_atualizado  tam_bancada  \n",
       "0  9154465944888420931           1     269                PDT           10  "
      ]
     },
     "execution_count": 59,
     "metadata": {},
     "output_type": "execute_result"
    }
   ],
   "source": [
    "fidelidade_deputado.head(1)"
   ]
  },
  {
   "cell_type": "code",
   "execution_count": 60,
   "metadata": {
    "collapsed": true
   },
   "outputs": [],
   "source": [
    "# SUBSTITUI OS PARTIDOS QUE SE UNIRAM OU MUDARAM DE SIGLA\n",
    "fidelidade_deputado['partido_atualizado'] = fidelidade_deputado['partido'].apply(substitui_sigla) "
   ]
  },
  {
   "cell_type": "code",
   "execution_count": 61,
   "metadata": {
    "collapsed": true
   },
   "outputs": [],
   "source": [
    "# CALCULA MEDIA GERAL\n",
    "votos_total = fidelidade_deputado[['votacao_id', 'fidelidade']].groupby(['votacao_id']).sum()\n",
    "quorum_total     = fidelidade_deputado[['votacao_id', 'fidelidade']].groupby(['votacao_id']).count().rename(columns={'fidelidade': 'quorum_total'})\n",
    "fidelidade_total = votos_total['fidelidade'].divide(quorum_total['quorum_total'])"
   ]
  },
  {
   "cell_type": "code",
   "execution_count": 62,
   "metadata": {
    "collapsed": true
   },
   "outputs": [],
   "source": [
    "fidelidade_deputado_partido = fidelidade_deputado.groupby(\n",
    "                                        ['partido_atualizado', 'votacao_id']).apply(\n",
    "                                                lambda x: sum(x['fidelidade'])/x['tam_bancada'].unique()[0])"
   ]
  },
  {
   "cell_type": "code",
   "execution_count": 63,
   "metadata": {
    "collapsed": true
   },
   "outputs": [],
   "source": [
    "fidelidade_deputado_partido = fidelidade_deputado_partido.to_frame().reset_index().pivot(index='votacao_id', columns='partido_atualizado', values=0)"
   ]
  },
  {
   "cell_type": "code",
   "execution_count": 64,
   "metadata": {
    "collapsed": true
   },
   "outputs": [],
   "source": [
    "fidelidade_deputado_partido = pd.concat([fidelidade_deputado_partido,fidelidade_total], axis=1).rename(columns={0:'Apoio Médio'})"
   ]
  },
  {
   "cell_type": "code",
   "execution_count": 65,
   "metadata": {
    "collapsed": true
   },
   "outputs": [],
   "source": [
    "fidelidade_deputado_partido = fidelidade_deputado_partido.reset_index().merge(votacao_id_table[['votacao_id', 'datavotacao']], on='votacao_id')\n",
    "fidelidade_deputado_partido.index = fidelidade_deputado_partido['datavotacao']\n",
    "del fidelidade_deputado_partido['datavotacao']\n",
    "del fidelidade_deputado_partido['votacao_id']\n",
    "fidelidade_deputado_partido.sort_index(inplace=True)"
   ]
  },
  {
   "cell_type": "code",
   "execution_count": 66,
   "metadata": {
    "collapsed": true,
    "scrolled": true
   },
   "outputs": [],
   "source": [
    "### FILTRA OS PARTIDOS POR PERIODO\n",
    "\n",
    "def cut_series(series, timestamp):       \n",
    "    a = series[:timestamp].apply(lambda x: np.nan)\n",
    "    b = series[timestamp:]\n",
    "    return a.append(b)\n",
    "\n",
    "partidos_filtrados = [('PSDC', '2014-06-01'),\n",
    "                      ('PTN', '2015-02-01'),\n",
    "                      ('PHS', '2007-03-01'),\n",
    "                      ('PSL', '2011-01-01'),\n",
    "                      ('PMN', '2007-01-01'),\n",
    "                      ('PSC', '2003-01-01'),\n",
    "                      ('PSD', '2012-01-01')]\n",
    "\n",
    "for partido, timestamp in partidos_filtrados:\n",
    "    \n",
    "    fidelidade_deputado_partido[partido] = cut_series(fidelidade_deputado_partido[partido], timestamp)"
   ]
  },
  {
   "cell_type": "code",
   "execution_count": 67,
   "metadata": {
    "collapsed": true
   },
   "outputs": [],
   "source": [
    "## RESCALE TO [-1 to 1]\n",
    "\n",
    "fidelidade_deputado_partido = fidelidade_deputado_partido.applymap(lambda x: 2*x - 1)"
   ]
  },
  {
   "cell_type": "code",
   "execution_count": 69,
   "metadata": {},
   "outputs": [
    {
     "name": "stdout",
     "output_type": "stream",
     "text": [
      "The draw time for this plot will be slow for clients without much RAM.\n"
     ]
    },
    {
     "name": "stderr",
     "output_type": "stream",
     "text": [
      "/usr/local/lib/python3.5/dist-packages/plotly/api/v1/clientresp.py:40: UserWarning:\n",
      "\n",
      "Estimated Draw Time Slow\n",
      "\n"
     ]
    },
    {
     "data": {
      "text/html": [
       "<iframe id=\"igraph\" scrolling=\"no\" style=\"border:none;\" seamless=\"seamless\" src=\"https://plot.ly/~JoaoCarabetta/8.embed\" height=\"880px\" width=\"600px\"></iframe>"
      ],
      "text/plain": [
       "<plotly.tools.PlotlyDisplay object>"
      ]
     },
     "execution_count": 69,
     "metadata": {},
     "output_type": "execute_result"
    }
   ],
   "source": [
    "data = []\n",
    "\n",
    "\n",
    "halflife = 90\n",
    "min_periods = 20\n",
    "# MEDIA GERAL\n",
    "partido = 'Apoio Médio'\n",
    "d = go.Scatter(\n",
    "                name = '{0}'.format(partido),\n",
    "                mode = 'lines',\n",
    "                line = dict(\n",
    "                            color = '#7F7F7F',\n",
    "                            width = 2),\n",
    "\n",
    "                x = fidelidade_deputado_partido.index, \n",
    "                y = dema(fidelidade_deputado_partido[partido], halflife=halflife, min_periods=min_periods)\n",
    "        )\n",
    "data.append(d)\n",
    "\n",
    "\n",
    "#### MEDIA FIXA 60 VOTACOES\n",
    "for partido, args in partidos_todos.items():\n",
    "    \n",
    "    try:\n",
    "        y = dema(fidelidade_deputado_partido[partido.upper()], halflife=halflife, min_periods=min_periods)\n",
    "    except:\n",
    "        continue\n",
    "    d = go.Scatter(\n",
    "                visible = \"legendonly\",\n",
    "                name = '{0}'.format(partido.upper()),\n",
    "                mode = 'lines',\n",
    "                line = dict(\n",
    "                            color = (args['cor']),\n",
    "                            width = 2),\n",
    "                x = fidelidade_deputado_partido.index,\n",
    "                y = y\n",
    "        )\n",
    "    data.append(d)\n",
    "\n",
    "#### RETANGULOS PRESIDENTES\n",
    "rectangle_color = '#ECEFF0'\n",
    "opacity = 0.8\n",
    "presidentes = [\n",
    "        # LULA I\n",
    "        {\n",
    "            'type': 'rect','xref': 'x','yref': 'y','x0': '2003-01-01','y0': -1.1,'x1': '2006-12-31','y1': 2,\n",
    "            'fillcolor':rectangle_color ,'opacity': opacity ,'line': {\n",
    "                'width': 0\n",
    "            }, 'layer':'below',\n",
    "        },\n",
    "        # DILMA I\n",
    "        {\n",
    "            'type': 'rect','xref': 'x','yref': 'y','x0': '2011-01-01','y0': -1.1,'x1': '2014-12-31','y1': 2,\n",
    "            'fillcolor': rectangle_color,'opacity': opacity ,'line': {\n",
    "                'width': 0\n",
    "            },'layer':'below'\n",
    "        },\n",
    "        # TEMER \n",
    "        {\n",
    "            'type': 'rect','xref': 'x','yref': 'y','x0': '2016-05-01','y0': -1.1,\n",
    "            'x1': datetime.datetime.strftime(fidelidade_deputado_partido.index[-1], '%Y-%m-%d'),\n",
    "            'y1': 2,\n",
    "            'fillcolor': rectangle_color,'opacity': opacity ,'line': {\n",
    "                'width': 0,\n",
    "            }, 'layer':'below'\n",
    "        }]  \n",
    "\n",
    "### ANOTACOES PRESITENTES\n",
    "y_pred = 1.05\n",
    "presidentes_hist = [dict(x='2000-12-31',\n",
    "                      y=y_pred,\n",
    "                      xref='x', yref='paper',\n",
    "                      text='FHC II',\n",
    "                      ax=0, ay=-30,\n",
    "                      showarrow=False,\n",
    "                        font=dict(size=9)),\n",
    "                    dict(x='2004-12-31',\n",
    "                      y=y_pred,\n",
    "                      xref='x', yref='paper',\n",
    "                      text='LULA I',\n",
    "                      ax=0, ay=-30,\n",
    "                      showarrow=False,\n",
    "                        font=dict(size=9)),\n",
    "                   dict(x='2008-12-31',\n",
    "                      y=y_pred,\n",
    "                      xref='x', yref='paper',\n",
    "                      text='LULA II',\n",
    "                      ax=0, ay=-30,\n",
    "                      showarrow=False,\n",
    "                       font=dict(size=9)),\n",
    "                   dict(x='2012-12-31',\n",
    "                      y=y_pred,\n",
    "                      xref='x', yref='paper',\n",
    "                      text='DILMA I',\n",
    "                      ax=0, ay=-30,\n",
    "                      showarrow=False,\n",
    "                       font=dict(size=9)),\n",
    "                   dict(x='2015-08-15',\n",
    "                      y=y_pred,\n",
    "                      xref='x', yref='paper',\n",
    "                      text='DILMA II',\n",
    "                      ax=0, ay=-30,\n",
    "                      showarrow=False,\n",
    "                       font=dict(size=9)),\n",
    "                   dict(x='2016-12-01',\n",
    "                      y=y_pred,\n",
    "                      xref='x', yref='paper',\n",
    "                      text='TEMER',\n",
    "                      ax=0, ay=-30,\n",
    "                      showarrow=False,\n",
    "                      font=dict(size=9))]\n",
    "\n",
    "#### RETANGULOS PRESIDENTE CAMARA\n",
    "rectangle_color = '#ECEFF0'\n",
    "opacity = 0.8\n",
    "shape_skeleton = {'type': 'rect','xref': 'x','yref': 'y','x0': '2003-01-01','y0': -1.1,'x1': '2006-12-31','y1': 2,\n",
    "            'fillcolor':rectangle_color ,'opacity': opacity ,'line': {'width': 0}, 'layer':'below'}\n",
    "\n",
    "\n",
    "presidentes_camara = [ {'mandato': ('1999-02-02','2001-02-13'), 'nome': 'TEMER', 'partido':'PMDB'},\n",
    "                       {'mandato': ('2001-02-13','2002-12-17'), 'nome': 'AÉCIO', 'partido':'PSDB'},\n",
    "                       {'mandato': ('2003-02-02','2005-02-14'), 'nome': 'LIMA'  , 'partido':'PT'},\n",
    "                       {'mandato': ('2005-02-14','2005-07-21'), 'nome': '*', 'partido':''},\n",
    "                       {'mandato': ('2005-07-28','2007-02-01'), 'nome': 'REBELO', 'partido':'PCdoB'},\n",
    "                       {'mandato': ('2007-02-01','2009-02-02'), 'nome': 'CHINAGLIA' , 'partido':'PT'},\n",
    "                       {'mandato': ('2009-02-02','2010-12-17'), 'nome': 'TEMER', 'partido':'PMDB'  },\n",
    "                       {'mandato': ('2010-12-17','2013-02-04'), 'nome': 'AURELI', 'partido':'PT'},\n",
    "                       {'mandato': ('2013-02-04','2015-02-01'), 'nome': 'ALVES', 'partido':'PMDB'},\n",
    "                       {'mandato': ('2015-02-01','2016-07-07'), 'nome': 'CUNHA', 'partido':'PMDB'},\n",
    "                       {'mandato': ('2016-07-07',\n",
    "                                   datetime.datetime.strftime(fidelidade_deputado_partido.index[-1], '%Y-%m-%d')),\n",
    "                      'nome': 'MAIA', 'partido':'DEM'}]\n",
    "\n",
    "\n",
    "presidentes_camara_shapes = []\n",
    "for i in range(len(presidentes_camara)):\n",
    "    if i % 2 != 0:\n",
    "        shape_skeleton.update(dict(zip(['x0','x1'],presidentes_camara[i]['mandato'])))\n",
    "        presidentes_camara_shapes.append(deepcopy(shape_skeleton))\n",
    "\n",
    "#### ANOTACOES PRESIDETES CAMARA\n",
    "\n",
    "y_pred = 1.05\n",
    "annot_skeleton = dict(x='2000-12-31', y=y_pred, xref='x', yref='paper', text='FHC II',ax=0, ay=-30,\n",
    "                     showarrow=False,\n",
    "                       font=dict(size=9))\n",
    "\n",
    "presidentes_camara_annot = []\n",
    "for presidente in presidentes_camara:\n",
    "    a, b  = presidente['mandato']\n",
    "    a = datetime.datetime.strptime(a, '%Y-%m-%d')\n",
    "    b = datetime.datetime.strptime(b, '%Y-%m-%d')\n",
    "    mean = a + (b - a) /2\n",
    "    annot_skeleton.update(dict(zip(['x','text'], (mean, '{0}<br>{1}'.format(presidente['nome'], presidente['partido'])))))\n",
    "    presidentes_camara_annot.append(deepcopy(annot_skeleton))\n",
    "    \n",
    "severino = [dict(text='* SEVERINO PP', font=dict(size=9), x=0.5, y=-0.47, yref='paper', xref='paper', showarrow=False)]\n",
    "    \n",
    "\n",
    "\n",
    "### ACONTECIMENTOS\n",
    "acontecimentos = [dict(x='2013-06-23',\n",
    "                      y=1,\n",
    "                      xref='x', yref='paper',\n",
    "                      text='Jornadas de <br> Junho',\n",
    "                      ax=0, ay=-18,\n",
    "                      font=dict(size=10)),\n",
    "               dict(x='2005-06-30',\n",
    "                    y=1,\n",
    "                    xref='x', yref='paper',\n",
    "                    text='Mensalão',\n",
    "                    ax=0, ay=-12,\n",
    "                   font=dict(size=10)),\n",
    "                dict(x='2008-09-15',\n",
    "                    y=1,\n",
    "                    xref='x', yref='paper',\n",
    "                    text='Crise <br> Financeira',\n",
    "                    ax=0, ay=-18,\n",
    "                    font=dict(size=10)),\n",
    "                dict(x='2016-05-12',\n",
    "                    y=1,\n",
    "                    xref='x', yref='paper',\n",
    "                    text='Impeachment',\n",
    "                    ax=0, ay=-12,\n",
    "                    font=dict(size=10)),]\n",
    "                    \n",
    "\n",
    "acontecimentos_lines =  [{\n",
    "                            'type': 'line',\n",
    "                            'x0': ac['x'],\n",
    "                            'y0': -1.1,\n",
    "                            'x1': ac['x'],\n",
    "                            'y1': 1.1,\n",
    "                            'line': {\n",
    "                                'color': 'black',\n",
    "                                'width': 1,\n",
    "                            },\n",
    "                        } for ac in acontecimentos]\n",
    "\n",
    "\n",
    "y_arrows = [dict(x=-0.012, y=1.02, ax=0, ay=17, arrowsize=1, arrowhead=4, xref='paper' )]\n",
    "\n",
    "### TEXTO DO GRAFICO\n",
    "subtitulos = [dict(text='PRESIDENTES', font=dict(size=11), x=0, y=-0.12, yref='paper', xref='paper', showarrow=False),\n",
    "             dict(text='INFORMAÇÕES', font=dict(size=11), x=0, y=-0.32, yref='paper', xref='paper', showarrow=False),\n",
    "             dict(text='PARTIDOS', font=dict(size=11), x=0, y=-0.52, yref='paper', xref='paper', showarrow=False),\n",
    "             dict(text='Dados: <a href=\\\"http://www2.camara.leg.br/transparencia/dados-abertos/dados-abertos-legislativo\\\">Câmara dos Deputados</a>', \n",
    "                  font=dict(size=9), x=0, y=-0.95, yref='paper', xref='paper', showarrow=False),\n",
    "             dict(text='Atualizado: {}'.format(datetime.datetime.strftime(datetime.datetime.now(), '%d/%m/%Y')), \n",
    "                  font=dict(size=9), x=0.35, y=-0.95, yref='paper', xref='paper', showarrow=False),\n",
    "             dict(text='Elaborado por Congresso Em Números', \n",
    "                  font=dict(size=9), x=0.60, y=-0.95, yref='paper', xref='paper', showarrow=False),]\n",
    "\n",
    "\n",
    "#### BOTOES PRESIDENTES\n",
    "y_button_president = -0.22\n",
    "updatemenus = list([\n",
    "    dict(buttons=list([   \n",
    "            dict(label = 'FHC II',\n",
    "                 method = 'relayout',\n",
    "                 args = [{'xaxis': dict(range=[datetime.datetime.strftime(fidelidade_deputado_partido.index[0], \n",
    "                                                                          '%Y-%m-%d'), \n",
    "                                               '2002-12-31'])}]),  \n",
    "           \n",
    "            dict(label = 'LULA I',\n",
    "                 method = 'relayout',\n",
    "                 args = [{'xaxis': dict(range=['2003-01-01', '2006-12-31'])}]),\n",
    "\n",
    "            dict(label = 'LULA II',\n",
    "                 method = 'relayout',\n",
    "                 args = [{'xaxis': dict(range=['2007-01-01', '2010-12-31'])}]),\n",
    "\n",
    "            dict(label = 'DILMA I',\n",
    "                 method = 'relayout',\n",
    "                 args = [{'xaxis': dict(range=['2011-01-01', '2014-12-31'])}]),\n",
    "\n",
    "            dict(label = 'DILMA II',\n",
    "                 method = 'relayout',\n",
    "                 args = [{'xaxis': dict(range=['2015-01-01', '2016-05-01'])}]),\n",
    "        \n",
    "            dict(label = 'TEMER',\n",
    "                 method = 'relayout',\n",
    "                 args = [{'xaxis': dict(range=['2016-05-01', \n",
    "                                               datetime.datetime.strftime(fidelidade_deputado_partido.index[-1], \n",
    "                                                                          '%Y-%m-%d')])}]),\n",
    "             dict(label = 'TODOS',\n",
    "                 method = 'relayout',\n",
    "                 args = [{'xaxis': dict(range=[datetime.datetime.strftime(fidelidade_deputado_partido.index[0], \n",
    "                                                                          '%Y-%m-%d'), \n",
    "                                               datetime.datetime.strftime(fidelidade_deputado_partido.index[-1], \n",
    "                                                                          '%Y-%m-%d')])}]),\n",
    "            ]),\n",
    "            direction = 'left',\n",
    "            pad = {'r': 10, 't': 10},\n",
    "            showactive = True,\n",
    "            active = 6,\n",
    "            type = 'buttons',\n",
    "            x = 0,\n",
    "            xanchor = 'left',\n",
    "            y = y_button_president,\n",
    "            yanchor = 'bottom' ),\n",
    "\n",
    "    ## BOTOES INFORMACOES\n",
    "    dict(buttons=list([   \n",
    "        dict(label = 'Acontecimentos',\n",
    "             method = 'relayout',\n",
    "             args = [{'annotations': acontecimentos +  subtitulos,\n",
    "                     'shapes': acontecimentos_lines,\n",
    "                     'xaxis': dict(tickvals=[x['x'] for x in acontecimentos])}]),\n",
    "        dict(label = 'Presidentes',\n",
    "             method = 'relayout',\n",
    "             args = [{'annotations': presidentes_hist + subtitulos,\n",
    "                     'shapes': presidentes,\n",
    "                     'xaxis': dict(tickvals=['2003', '2007', '2011', '2015'], tickformat='%Y')}]),\n",
    "        dict(label = 'Presidentes Câmara',\n",
    "             method = 'relayout',\n",
    "             args = [{'annotations': presidentes_camara_annot + subtitulos + severino,\n",
    "                     'shapes': presidentes_camara_shapes,\n",
    "                     'xaxis': dict(tickvals=['2001','2003','2005', '2007','2009', '2011', '2013', '2015', '2007', '2017'], tickformat='%Y')}]),\n",
    "         dict(label = 'Limpar',\n",
    "             method = 'relayout',\n",
    "             args = [{'annotations': subtitulos,\n",
    "                     'shapes': [],\n",
    "                      'xaxis': dict(tickvals=['2003', '2007', '2011', '2015'], tickformat='%Y')}]),\n",
    "        ]),\n",
    "            direction = 'left',\n",
    "            pad = {'r': 10, 't': 10},\n",
    "            showactive = True,\n",
    "            active = 3,\n",
    "            type = 'buttons',\n",
    "            x = 0,\n",
    "            xanchor = 'left',\n",
    "            y = -0.42,\n",
    "            yanchor = 'bottom' )\n",
    "])\n",
    "\n",
    "\n",
    "legend = dict(orientation='h', x=0, y=-0.72, xanchor='center', yanchor='middle')\n",
    "\n",
    "yaxis = go.YAxis(\n",
    "    #title=\"Apoio ao Governo\",\n",
    "    range=[-1.1, 1.1],\n",
    "    showgrid=False,\n",
    "    showline=True,\n",
    "    ticks=\"\", \n",
    "    showticklabels=True,\n",
    "    #mirror=True,\n",
    "    linewidth=1,\n",
    "    ticktext=['Menos<br>Apoio', 'Mais<br>Apoio'],\n",
    "    tickvals=[-0.96, 1.09]\n",
    ")\n",
    "layout = dict(title = 'Apoio ao Governo das Bancadas Partidárias por Voto <br> Parlamentar na Câmara ',\n",
    "              xaxis = dict(#rangeslider=dict(),\n",
    "                            type='date'),\n",
    "              yaxis = yaxis,\n",
    "              autosize=False,\n",
    "              width=600,\n",
    "              height=880,\n",
    "              margin=go.Margin(\n",
    "                    l=50,\n",
    "                    r=30,\n",
    "                    b=360,\n",
    "                    t=110,\n",
    "                    pad=0\n",
    "                ),\n",
    "              paper_bgcolor='#F2F2F2',\n",
    "              plot_bgcolor='#F2F2F2',\n",
    "              updatemenus=updatemenus,\n",
    "              annotations=subtitulos,\n",
    "              legend=legend,\n",
    "              font = dict(family='Lato, sans-serif')\n",
    "              #shapes = presidentes,\n",
    ")\n",
    "\n",
    "            \n",
    "fig = dict(data = data, layout=layout)\n",
    "py.iplot(fig, filename='Apoio Governo Bancadas Voto Parlamentar')"
   ]
  },
  {
   "cell_type": "code",
   "execution_count": 70,
   "metadata": {
    "collapsed": true
   },
   "outputs": [],
   "source": [
    "### TO SQL\n",
    "fidelidade_deputado_partido.apply(dema).to_sql('camdep_apoio_governo_bancada_voto_parlamentar', conn, schema='indicadores', if_exists='replace')"
   ]
  },
  {
   "cell_type": "markdown",
   "metadata": {},
   "source": [
    "#### Output CSVs"
   ]
  },
  {
   "cell_type": "code",
   "execution_count": 71,
   "metadata": {},
   "outputs": [],
   "source": [
    "fidelidade_deputado.to_csv('csvs/votacao_governo_deputado', index='False', encoding='utf8')\n",
    "votacao_id_table.to_csv('csvs/id_proposicao_governo', index='False', encoding='utf8')\n",
    "fidelidade_deputado_partido.to_csv('csvs/fidelidade_deputado_partido_raw', index='False', encoding='utf8')\n",
    "fidelidade_deputado_partido.apply(dema).to_csv('csvs/fidelidade_deputado_partido_dema', index='False', encoding='utf8')"
   ]
  },
  {
   "cell_type": "code",
   "execution_count": 72,
   "metadata": {},
   "outputs": [
    {
     "data": {
      "text/plain": [
       "\"\\nSTACKED CHART\\n\\n\\nvotos_apoio = fidelidade_deputado.groupby(['votacao_id', 'partido']).sum()['fidelidade'].to_frame().reset_index()\\na = fidelidade_deputado.drop_duplicates(['votacao_id', 'partido'])[['votacao_id', 'partido', 'tam_bancada']]\\nvotos = a.merge(votos_apoio, on=['votacao_id', 'partido'])\\nvotos['contra'] = votos.apply(lambda x:  x['tam_bancada'] - x['fidelidade'], axis=1)\\nvotos = votos.rename(columns= {'fidelidade': 'a_favor'})\\nvotos_favor = votos.pivot(index='votacao_id', columns='partido', values='a_favor')\\nvotos_contra = votos.pivot(index='votacao_id', columns='partido', values='contra')\\ndef add_date(df):\\n    df = df.reset_index().merge(votacao_id_table[['votacao_id', 'datavotacao']], on='votacao_id')\\n    df.index = df['datavotacao']\\n    del df['datavotacao']\\n    del df['votacao_id']\\n    df.sort_index(inplace=True)\\n    return df\\n\\nvotos_contra = add_date(votos_contra)\\nvotos_favor  = add_date(votos_favor)\\nvotos_contra = votos_contra.fillna(0)\\ndef stack(df):\\n    \\n    for i, column in enumerate(df.columns):\\n        if i == 0:\\n            continue\\n        df[column] = df[column] + df[df.columns[i-1]]\\n        \\n    return df\\nvotos_contra_stack = stack(votos_contra)\""
      ]
     },
     "execution_count": 72,
     "metadata": {},
     "output_type": "execute_result"
    }
   ],
   "source": [
    "\"\"\"\n",
    "STACKED CHART\n",
    "\n",
    "\n",
    "votos_apoio = fidelidade_deputado.groupby(['votacao_id', 'partido']).sum()['fidelidade'].to_frame().reset_index()\n",
    "a = fidelidade_deputado.drop_duplicates(['votacao_id', 'partido'])[['votacao_id', 'partido', 'tam_bancada']]\n",
    "votos = a.merge(votos_apoio, on=['votacao_id', 'partido'])\n",
    "votos['contra'] = votos.apply(lambda x:  x['tam_bancada'] - x['fidelidade'], axis=1)\n",
    "votos = votos.rename(columns= {'fidelidade': 'a_favor'})\n",
    "votos_favor = votos.pivot(index='votacao_id', columns='partido', values='a_favor')\n",
    "votos_contra = votos.pivot(index='votacao_id', columns='partido', values='contra')\n",
    "def add_date(df):\n",
    "    df = df.reset_index().merge(votacao_id_table[['votacao_id', 'datavotacao']], on='votacao_id')\n",
    "    df.index = df['datavotacao']\n",
    "    del df['datavotacao']\n",
    "    del df['votacao_id']\n",
    "    df.sort_index(inplace=True)\n",
    "    return df\n",
    "\n",
    "votos_contra = add_date(votos_contra)\n",
    "votos_favor  = add_date(votos_favor)\n",
    "votos_contra = votos_contra.fillna(0)\n",
    "def stack(df):\n",
    "    \n",
    "    for i, column in enumerate(df.columns):\n",
    "        if i == 0:\n",
    "            continue\n",
    "        df[column] = df[column] + df[df.columns[i-1]]\n",
    "        \n",
    "    return df\n",
    "votos_contra_stack = stack(votos_contra)\"\"\""
   ]
  },
  {
   "cell_type": "code",
   "execution_count": null,
   "metadata": {
    "collapsed": true
   },
   "outputs": [],
   "source": []
  }
 ],
 "metadata": {
  "kernelspec": {
   "display_name": "Python 3",
   "language": "python",
   "name": "python3"
  },
  "language_info": {
   "codemirror_mode": {
    "name": "ipython",
    "version": 3
   },
   "file_extension": ".py",
   "mimetype": "text/x-python",
   "name": "python",
   "nbconvert_exporter": "python",
   "pygments_lexer": "ipython3",
   "version": "3.5.2+"
  }
 },
 "nbformat": 4,
 "nbformat_minor": 2
}
