{
 "cells": [
  {
   "cell_type": "markdown",
   "metadata": {},
   "source": [
    "TABELAS NECESSÁRIAS:\n",
    "    Antigas:\n",
    "        a_campdep.votacao_bancada [codproposicao, tipo, numero, ano, codsessao, datavotacao, sigla, orientacao]\n",
    "\n",
    "        a_campdep.votacao_deputado [codproposicao,tipo, numero, ano, codsessao, datavotacao, idecadastro, nome,   partido, uf, voto]\n",
    "    \n",
    "    Novas:\n",
    "        desenv.cam_total_votacao_dia [dia, numero_votacoes]\n",
    "        desenv.cam_total_votacao_mes [mes, numero_votacoes]\n",
    "        desenv.cam_total_votacao_ano [ano, numero_votacoes]\n",
    "        camdep.votacao_bancada_partido\n",
    "        desenv.cam_votacao_bancada_deputado\n",
    "        \n",
    "        desenv.votacao_governo_deputados_dia -- tem a votacao de cada deputado em comp com o gov\n",
    "        desenv.votacao_governo_partidos_dia  -- tem a votacao de cada partido em comp com o gov\n",
    "        \n",
    "   Atualiza:\n",
    "        campdep.votacao_deputado\n",
    "        \n",
    " "
   ]
  },
  {
   "cell_type": "markdown",
   "metadata": {},
   "source": [
    "##### Metodologia\n",
    "\n",
    "Algumas considerações metodológicas da construção das tabelas:\n",
    "\n",
    "- Serão considerados somente o apoio de quando o partido/bloco explicita sua orientação. \n",
    "Então, orientação == ['Liberado', 'Abstenção', NaN] serão descartados\n",
    "\n",
    "- Parlamentares com voto == 'Art. 17' serão descartados pois se referem ao presidente da casa\n",
    "\n",
    "- Parlamentares com voto == '-' serão descartados pois indicam que o deputado não estava presente\n",
    "\n",
    "- Somente votos que seguem integralmente a orientação do governo/bloco são considerados como apoio (Sim-Sim, Não-Não, Obstrução-Obstrução). Quaisquer diferenças do sugerido pelo partido/bloco enquadram-se como oposição (Sim-Não, Sim-Obstrução...)"
   ]
  },
  {
   "cell_type": "markdown",
   "metadata": {},
   "source": [
    "##### Observações\n",
    "\n",
    "As orientações possíveis são: 'Sim', 'Obstrução', 'Não', 'Liberado', 'Abstenção'\n",
    "\n",
    "Os votos possíveis são: 'Sim', 'Não', 'Obstrução', 'Abstenção', 'Branco'"
   ]
  },
  {
   "cell_type": "code",
   "execution_count": 1,
   "metadata": {
    "collapsed": true
   },
   "outputs": [],
   "source": [
    "partidos = ['PMDB','PTB','PPB','PL','PST','PTR','PRS','PDC','PDS', 'PPR','PRN', 'PAN','PRONA','PTDOB', 'PMR','PFL','SDD', 'SD','PDT','PT','DEM','PCDOB','PSB','PSDB','PTC','PSC','PMN','PRP','PPS','PV','PTdoB','PP','PSTU','PCB','PRTB','PHS','PSDC','PCO','PTN','PSL','PRB','PSOL','PR','PSD','PPL','PEN','PROS','SOLIDARIED','NOVO','REDE','PMB']\n",
    "blocos   = ['GOV', 'MINORIA', 'MAIORIA', 'APOIO AO GOVERNO']\n",
    "relacoes = {'SD': ['SDD', 'SOLIDARIED', 'SD'],\n",
    "           'GOV': ['APOIO AO GOVERNO', 'GOV', 'GOV.'],\n",
    "           'DEM': ['DEM', 'PFL'],\n",
    "           'PR': ['PRONA', 'PL', 'PR', 'PST'],\n",
    "           'PTB': ['PAN', 'PTB'],\n",
    "           'PRB': ['PRB', 'PMR'],\n",
    "           'PP': ['PP', 'PPB']}"
   ]
  },
  {
   "cell_type": "code",
   "execution_count": 2,
   "metadata": {
    "collapsed": true
   },
   "outputs": [],
   "source": [
    "# GLOBAL\n",
    "SCHEMA = 'desenv.cam_'"
   ]
  },
  {
   "cell_type": "code",
   "execution_count": 44,
   "metadata": {
    "collapsed": true
   },
   "outputs": [],
   "source": [
    "import sqlalchemy\n",
    "from sqlalchemy.sql import text\n",
    "import pandas as pd\n",
    "import glob\n",
    "import os\n",
    "import pickle\n",
    "import numpy as np\n",
    "import tqdm\n",
    "import yaml"
   ]
  },
  {
   "cell_type": "markdown",
   "metadata": {
    "collapsed": true
   },
   "source": [
    "#### CONECTA AO BANCO"
   ]
  },
  {
   "cell_type": "code",
   "execution_count": 45,
   "metadata": {
    "collapsed": true
   },
   "outputs": [],
   "source": [
    "with open('server_config.yaml', 'r') as f:\n",
    "        server = yaml.load(f)\n",
    "\n",
    "host = server['host']\n",
    "database = server['database']\n",
    "user = server['user']\n",
    "password = server['password']\n",
    "\n",
    "url = 'postgresql://{}:{}@{}/{}'\n",
    "url = url.format(user, password, host, database)\n",
    "conn = sqlalchemy.create_engine(url)"
   ]
  },
  {
   "cell_type": "code",
   "execution_count": 5,
   "metadata": {
    "collapsed": true
   },
   "outputs": [],
   "source": [
    "#### CRIA TABLE DAS SIGLAS ATUALIZADAS"
   ]
  },
  {
   "cell_type": "code",
   "execution_count": 6,
   "metadata": {
    "collapsed": true
   },
   "outputs": [],
   "source": [
    "rel = []\n",
    "for key, val in relacoes.items():\n",
    "    for v in val:\n",
    "        rel.append((key, v))\n",
    "rel = pd.DataFrame(rel, columns=['sigla_atualizada', 'sinonimo'])\n",
    "rel.to_sql('sigla_partido_atulizada', conn, schema='desenv', if_exists='replace')"
   ]
  },
  {
   "cell_type": "markdown",
   "metadata": {},
   "source": [
    "#### CRIA TABELA QTDADE VOTACAO DIA\n",
    "OBS: Preferi usar date_trunc ao invés de criar um field novo porque ainda posso usar as vantagens do tipo timestamp\n"
   ]
  },
  {
   "cell_type": "code",
   "execution_count": 7,
   "metadata": {},
   "outputs": [
    {
     "data": {
      "text/plain": [
       "<sqlalchemy.engine.result.ResultProxy at 0x7fa69ceb0630>"
      ]
     },
     "execution_count": 7,
     "metadata": {},
     "output_type": "execute_result"
    }
   ],
   "source": [
    "query = text(\"\"\"\n",
    "            DROP TABLE IF EXISTS {0}total_votacao_dia;\n",
    "            CREATE TABLE {0}total_votacao_dia AS\n",
    "                SELECT  date_trunc('day', t.datavotacao) as datavotacao_trunc,\n",
    "                    COUNT(date_trunc('day', t.datavotacao)) as numero_votacao\n",
    "                FROM (\n",
    "                    SELECT DISTINCT datavotacao, codproposicao, codsessao\n",
    "                    FROM a_camdep.votacao_bancada\n",
    "                ) t\n",
    "                GROUP BY datavotacao_trunc\n",
    "                ORDER BY datavotacao_trunc DESC;\n",
    "            \"\"\".format(SCHEMA))\n",
    "conn.execute(query, autocommit=True)\n",
    "\n",
    "# CRIA TABELA QTDADE VOTACAO MES\n",
    "\n",
    "query = text(\"\"\"\n",
    "    DROP TABLE IF EXISTS {0}total_votacao_mes;\n",
    "    CREATE TABLE {0}total_votacao_mes AS\n",
    "        SELECT date_trunc('month', datavotacao_trunc)  as mes,\n",
    "               SUM(numero_votacao) as numero_votacao\n",
    "        FROM desenv.cam_total_votacao_dia\n",
    "        GROUP BY mes\n",
    "        ORDER BY mes DESC\"\"\".format(SCHEMA))\n",
    "conn.execute(query, autocommit=True)\n",
    "\n",
    "# CRIA TABELA QTDADE VOTACAO ANO\n",
    "query = text(\"\"\"\n",
    "    DROP TABLE IF EXISTS {0}total_votacao_ano;\n",
    "    CREATE TABLE {0}total_votacao_ano AS\n",
    "        SELECT date_trunc('year', datavotacao_trunc)  as ano,\n",
    "               SUM(numero_votacao) as numero_votacao\n",
    "        FROM desenv.cam_total_votacao_dia\n",
    "        GROUP BY ano\n",
    "        ORDER BY ano DESC\"\"\".format(SCHEMA))\n",
    "conn.execute(query, autocommit=True)"
   ]
  },
  {
   "cell_type": "markdown",
   "metadata": {
    "collapsed": true
   },
   "source": [
    "#### GERA VOTACAO BANCADA POR PARTIDO"
   ]
  },
  {
   "cell_type": "code",
   "execution_count": 8,
   "metadata": {},
   "outputs": [
    {
     "data": {
      "text/html": [
       "<div>\n",
       "<table border=\"1\" class=\"dataframe\">\n",
       "  <thead>\n",
       "    <tr style=\"text-align: right;\">\n",
       "      <th></th>\n",
       "      <th>codproposicao</th>\n",
       "      <th>tipo</th>\n",
       "      <th>numero</th>\n",
       "      <th>ano</th>\n",
       "      <th>codsessao</th>\n",
       "      <th>datavotacao</th>\n",
       "      <th>sigla</th>\n",
       "      <th>orientacao</th>\n",
       "    </tr>\n",
       "  </thead>\n",
       "  <tbody>\n",
       "    <tr>\n",
       "      <th>0</th>\n",
       "      <td>485758</td>\n",
       "      <td>MPV</td>\n",
       "      <td>511</td>\n",
       "      <td>2010</td>\n",
       "      <td>4251</td>\n",
       "      <td>2011-04-05 17:02:00</td>\n",
       "      <td>PT</td>\n",
       "      <td>Não</td>\n",
       "    </tr>\n",
       "    <tr>\n",
       "      <th>1</th>\n",
       "      <td>113717</td>\n",
       "      <td>PEC</td>\n",
       "      <td>41</td>\n",
       "      <td>2003</td>\n",
       "      <td>835</td>\n",
       "      <td>2003-09-10 18:52:00</td>\n",
       "      <td>PT</td>\n",
       "      <td>Não</td>\n",
       "    </tr>\n",
       "    <tr>\n",
       "      <th>2</th>\n",
       "      <td>102704</td>\n",
       "      <td>MPV</td>\n",
       "      <td>80</td>\n",
       "      <td>2002</td>\n",
       "      <td>737</td>\n",
       "      <td>2003-02-26 19:14:00</td>\n",
       "      <td>PCdoB</td>\n",
       "      <td>Sim</td>\n",
       "    </tr>\n",
       "    <tr>\n",
       "      <th>3</th>\n",
       "      <td>368170</td>\n",
       "      <td>MPV</td>\n",
       "      <td>392</td>\n",
       "      <td>2007</td>\n",
       "      <td>3305</td>\n",
       "      <td>2007-11-06 20:28:00</td>\n",
       "      <td>PV</td>\n",
       "      <td>Sim</td>\n",
       "    </tr>\n",
       "    <tr>\n",
       "      <th>4</th>\n",
       "      <td>357094</td>\n",
       "      <td>PEC</td>\n",
       "      <td>98</td>\n",
       "      <td>2007</td>\n",
       "      <td>4487</td>\n",
       "      <td>2011-11-29 20:10:00</td>\n",
       "      <td>PrPtdobPrpPhsPtcPsl</td>\n",
       "      <td>Liberado</td>\n",
       "    </tr>\n",
       "  </tbody>\n",
       "</table>\n",
       "</div>"
      ],
      "text/plain": [
       "   codproposicao tipo  numero   ano  codsessao         datavotacao  \\\n",
       "0         485758  MPV     511  2010       4251 2011-04-05 17:02:00   \n",
       "1         113717  PEC      41  2003        835 2003-09-10 18:52:00   \n",
       "2         102704  MPV      80  2002        737 2003-02-26 19:14:00   \n",
       "3         368170  MPV     392  2007       3305 2007-11-06 20:28:00   \n",
       "4         357094  PEC      98  2007       4487 2011-11-29 20:10:00   \n",
       "\n",
       "                 sigla orientacao  \n",
       "0                   PT        Não  \n",
       "1                   PT        Não  \n",
       "2                PCdoB        Sim  \n",
       "3                   PV        Sim  \n",
       "4  PrPtdobPrpPhsPtcPsl   Liberado  "
      ]
     },
     "execution_count": 8,
     "metadata": {},
     "output_type": "execute_result"
    }
   ],
   "source": [
    "votacao_bancada = pd.read_sql_table('votacao_bancada', conn, schema='a_camdep')\n",
    "votacao_bancada.head()"
   ]
  },
  {
   "cell_type": "code",
   "execution_count": 9,
   "metadata": {
    "collapsed": true
   },
   "outputs": [],
   "source": [
    "# FILTRA SIGLA PARA SEPARAR POR PARTIDOS\n",
    "import re\n",
    "\n",
    "def check_partidos_blocos(sigla):\n",
    "    \"\"\"Checa se sigla está na lista de blocos ou partidos\"\"\"\n",
    "    if sigla.upper() in partidos:\n",
    "        return True\n",
    "        \n",
    "    elif sigla.upper() in blocos:\n",
    "        return True\n",
    "    \n",
    "    else:\n",
    "        return False\n",
    "\n",
    "def substitui_sigla(sigla):\n",
    "    \n",
    "    for final, values in relacoes.items():\n",
    "        if sigla.upper() in values:\n",
    "            return final\n",
    "    else:\n",
    "        return sigla.upper()\n",
    "            \n",
    "def filtra_sigla(sigla):\n",
    "    \"\"\"\n",
    "    Processa as siglas para separar por partidos ou blocos\n",
    "    \"\"\"\n",
    "    sigla = sigla.strip().replace('Repr.', '').strip('.')\n",
    "    \n",
    "    if '/' in sigla:\n",
    "        final = []\n",
    "        for s in sigla.split('/'):\n",
    "            if not check_partidos_blocos(s):\n",
    "                print('Partido {} não está na lista'.format(s))\n",
    "            else:\n",
    "                final.append(substitui_sigla(s))\n",
    "        return(final)\n",
    "    \n",
    "    elif check_partidos_blocos(sigla):\n",
    "        return([substitui_sigla(sigla)])\n",
    "    \n",
    "    else:\n",
    "        siglas = re.findall('[A-Z][^A-Z]*', sigla)\n",
    "        \n",
    "        if 'B' in siglas:\n",
    "            siglas.remove('B')\n",
    "            if 'Cdo' in siglas:\n",
    "                siglas.append('PCdoB')\n",
    "                siglas.remove('Cdo')\n",
    "                siglas.remove('P')\n",
    "            elif 'Tdo' in siglas:\n",
    "                siglas.append('PTdoB')\n",
    "                siglas.remove('Tdo')\n",
    "                siglas.remove('P')\n",
    "            elif 'Ptdo' in siglas:\n",
    "                siglas.append('PTdoB')\n",
    "                siglas.remove('Ptdo')\n",
    "        \n",
    "        final=[]\n",
    "        for s in siglas:\n",
    "            if not check_partidos_blocos(s):\n",
    "                print('Partido {} não está na lista'.format(s))\n",
    "            else:\n",
    "                final.append(substitui_sigla(s))\n",
    "        return(final)"
   ]
  },
  {
   "cell_type": "code",
   "execution_count": 10,
   "metadata": {},
   "outputs": [
    {
     "name": "stderr",
     "output_type": "stream",
     "text": [
      "37700it [00:13, 2726.00it/s]\n"
     ]
    }
   ],
   "source": [
    "j = 0\n",
    "for i, row in tqdm.tqdm(votacao_bancada.iterrows()):\n",
    "    \n",
    "    row = row.to_dict()\n",
    "    for sigla in filtra_sigla(row['sigla']):\n",
    "        \n",
    "        row['partido_bloco'] = sigla\n",
    "        \n",
    "        pickle.dump(row, open('temp/temp{}.p'.format(j), 'wb'))\n",
    "        j += 1"
   ]
  },
  {
   "cell_type": "code",
   "execution_count": 11,
   "metadata": {
    "collapsed": true
   },
   "outputs": [
    {
     "name": "stderr",
     "output_type": "stream",
     "text": [
      "100%|██████████| 50690/50690 [00:07<00:00, 6664.66it/s]\n"
     ]
    }
   ],
   "source": [
    "votacao_bancada_partidos = []\n",
    "for i in tqdm.tqdm(glob.glob('temp/*.p')):\n",
    "    a = pickle.load(open(i, 'rb'))\n",
    "    votacao_bancada_partidos.append(a)\n",
    "    os.remove(i)\n",
    "votacao_bancada_partidos = pd.DataFrame(votacao_bancada_partidos)"
   ]
  },
  {
   "cell_type": "code",
   "execution_count": 12,
   "metadata": {},
   "outputs": [
    {
     "data": {
      "text/html": [
       "<div>\n",
       "<table border=\"1\" class=\"dataframe\">\n",
       "  <thead>\n",
       "    <tr style=\"text-align: right;\">\n",
       "      <th></th>\n",
       "      <th>ano</th>\n",
       "      <th>codproposicao</th>\n",
       "      <th>codsessao</th>\n",
       "      <th>datavotacao</th>\n",
       "      <th>numero</th>\n",
       "      <th>orientacao</th>\n",
       "      <th>partido_bloco</th>\n",
       "      <th>sigla</th>\n",
       "      <th>tipo</th>\n",
       "      <th>votacao_id</th>\n",
       "    </tr>\n",
       "  </thead>\n",
       "  <tbody>\n",
       "    <tr>\n",
       "      <th>0</th>\n",
       "      <td>2016</td>\n",
       "      <td>2121843</td>\n",
       "      <td>16206</td>\n",
       "      <td>2017-05-15 21:01:00</td>\n",
       "      <td>757</td>\n",
       "      <td>Liberado</td>\n",
       "      <td>REDE</td>\n",
       "      <td>Repr.REDE</td>\n",
       "      <td>MPV</td>\n",
       "      <td>-2762957986797302247</td>\n",
       "    </tr>\n",
       "    <tr>\n",
       "      <th>1</th>\n",
       "      <td>2004</td>\n",
       "      <td>159554</td>\n",
       "      <td>942</td>\n",
       "      <td>2004-05-19 17:04:00</td>\n",
       "      <td>179</td>\n",
       "      <td>Não</td>\n",
       "      <td>PTB</td>\n",
       "      <td>PTB</td>\n",
       "      <td>MPV</td>\n",
       "      <td>-3775565451622503749</td>\n",
       "    </tr>\n",
       "    <tr>\n",
       "      <th>2</th>\n",
       "      <td>2015</td>\n",
       "      <td>1150196</td>\n",
       "      <td>5580</td>\n",
       "      <td>2015-06-24 18:11:00</td>\n",
       "      <td>672</td>\n",
       "      <td>Sim</td>\n",
       "      <td>PSB</td>\n",
       "      <td>PSB</td>\n",
       "      <td>MPV</td>\n",
       "      <td>-2263084988558699622</td>\n",
       "    </tr>\n",
       "    <tr>\n",
       "      <th>3</th>\n",
       "      <td>1997</td>\n",
       "      <td>25533</td>\n",
       "      <td>498</td>\n",
       "      <td>2000-06-27 18:18:00</td>\n",
       "      <td>3310</td>\n",
       "      <td>Não</td>\n",
       "      <td>PCDOB</td>\n",
       "      <td>PSB/PCDOB</td>\n",
       "      <td>PL</td>\n",
       "      <td>5813241135799075411</td>\n",
       "    </tr>\n",
       "    <tr>\n",
       "      <th>4</th>\n",
       "      <td>2009</td>\n",
       "      <td>434563</td>\n",
       "      <td>3798</td>\n",
       "      <td>2009-08-18 17:38:00</td>\n",
       "      <td>462</td>\n",
       "      <td>Não</td>\n",
       "      <td>PRB</td>\n",
       "      <td>PsbPCdoBPmnPrb</td>\n",
       "      <td>MPV</td>\n",
       "      <td>3936614211316915899</td>\n",
       "    </tr>\n",
       "  </tbody>\n",
       "</table>\n",
       "</div>"
      ],
      "text/plain": [
       "    ano  codproposicao  codsessao         datavotacao  numero orientacao  \\\n",
       "0  2016        2121843      16206 2017-05-15 21:01:00     757   Liberado   \n",
       "1  2004         159554        942 2004-05-19 17:04:00     179        Não   \n",
       "2  2015        1150196       5580 2015-06-24 18:11:00     672        Sim   \n",
       "3  1997          25533        498 2000-06-27 18:18:00    3310        Não   \n",
       "4  2009         434563       3798 2009-08-18 17:38:00     462        Não   \n",
       "\n",
       "  partido_bloco           sigla tipo           votacao_id  \n",
       "0          REDE       Repr.REDE  MPV -2762957986797302247  \n",
       "1           PTB             PTB  MPV -3775565451622503749  \n",
       "2           PSB             PSB  MPV -2263084988558699622  \n",
       "3         PCDOB       PSB/PCDOB   PL  5813241135799075411  \n",
       "4           PRB  PsbPCdoBPmnPrb  MPV  3936614211316915899  "
      ]
     },
     "execution_count": 12,
     "metadata": {},
     "output_type": "execute_result"
    }
   ],
   "source": [
    "votacao_bancada_partidos['votacao_id'] = votacao_bancada_partidos[['codproposicao', \n",
    "                                                       'codsessao' ,\n",
    "                                                       'datavotacao']].apply(lambda x: \n",
    "                                                                             hash(tuple(x)),\n",
    "                                                                             axis = 1)\n",
    "votacao_bancada_partidos.to_sql('votacao_bancada_partidos', conn, schema='a_camdep', if_exists='replace')\n",
    "votacao_bancada_partidos.head()"
   ]
  },
  {
   "cell_type": "markdown",
   "metadata": {},
   "source": [
    "##### CRIA TABELA DO HASH DA PROPOSICAO"
   ]
  },
  {
   "cell_type": "code",
   "execution_count": 13,
   "metadata": {
    "collapsed": true
   },
   "outputs": [],
   "source": [
    "votacao_id_table = pd.read_sql_query('SELECT * FROM a_camdep.votacao_bancada_partidos',\n",
    "                                        conn)"
   ]
  },
  {
   "cell_type": "code",
   "execution_count": 14,
   "metadata": {},
   "outputs": [
    {
     "data": {
      "text/html": [
       "<div>\n",
       "<table border=\"1\" class=\"dataframe\">\n",
       "  <thead>\n",
       "    <tr style=\"text-align: right;\">\n",
       "      <th></th>\n",
       "      <th>index</th>\n",
       "      <th>ano</th>\n",
       "      <th>codproposicao</th>\n",
       "      <th>codsessao</th>\n",
       "      <th>datavotacao</th>\n",
       "      <th>numero</th>\n",
       "      <th>orientacao</th>\n",
       "      <th>partido_bloco</th>\n",
       "      <th>sigla</th>\n",
       "      <th>tipo</th>\n",
       "      <th>votacao_id</th>\n",
       "    </tr>\n",
       "  </thead>\n",
       "  <tbody>\n",
       "    <tr>\n",
       "      <th>0</th>\n",
       "      <td>0</td>\n",
       "      <td>2016</td>\n",
       "      <td>2121843</td>\n",
       "      <td>16206</td>\n",
       "      <td>2017-05-15 21:01:00</td>\n",
       "      <td>757</td>\n",
       "      <td>Liberado</td>\n",
       "      <td>REDE</td>\n",
       "      <td>Repr.REDE</td>\n",
       "      <td>MPV</td>\n",
       "      <td>-2762957986797302247</td>\n",
       "    </tr>\n",
       "    <tr>\n",
       "      <th>1</th>\n",
       "      <td>1</td>\n",
       "      <td>2004</td>\n",
       "      <td>159554</td>\n",
       "      <td>942</td>\n",
       "      <td>2004-05-19 17:04:00</td>\n",
       "      <td>179</td>\n",
       "      <td>Não</td>\n",
       "      <td>PTB</td>\n",
       "      <td>PTB</td>\n",
       "      <td>MPV</td>\n",
       "      <td>-3775565451622503749</td>\n",
       "    </tr>\n",
       "    <tr>\n",
       "      <th>2</th>\n",
       "      <td>2</td>\n",
       "      <td>2015</td>\n",
       "      <td>1150196</td>\n",
       "      <td>5580</td>\n",
       "      <td>2015-06-24 18:11:00</td>\n",
       "      <td>672</td>\n",
       "      <td>Sim</td>\n",
       "      <td>PSB</td>\n",
       "      <td>PSB</td>\n",
       "      <td>MPV</td>\n",
       "      <td>-2263084988558699622</td>\n",
       "    </tr>\n",
       "    <tr>\n",
       "      <th>3</th>\n",
       "      <td>3</td>\n",
       "      <td>1997</td>\n",
       "      <td>25533</td>\n",
       "      <td>498</td>\n",
       "      <td>2000-06-27 18:18:00</td>\n",
       "      <td>3310</td>\n",
       "      <td>Não</td>\n",
       "      <td>PCDOB</td>\n",
       "      <td>PSB/PCDOB</td>\n",
       "      <td>PL</td>\n",
       "      <td>5813241135799075411</td>\n",
       "    </tr>\n",
       "    <tr>\n",
       "      <th>4</th>\n",
       "      <td>4</td>\n",
       "      <td>2009</td>\n",
       "      <td>434563</td>\n",
       "      <td>3798</td>\n",
       "      <td>2009-08-18 17:38:00</td>\n",
       "      <td>462</td>\n",
       "      <td>Não</td>\n",
       "      <td>PRB</td>\n",
       "      <td>PsbPCdoBPmnPrb</td>\n",
       "      <td>MPV</td>\n",
       "      <td>3936614211316915899</td>\n",
       "    </tr>\n",
       "  </tbody>\n",
       "</table>\n",
       "</div>"
      ],
      "text/plain": [
       "   index   ano  codproposicao  codsessao         datavotacao  numero  \\\n",
       "0      0  2016        2121843      16206 2017-05-15 21:01:00     757   \n",
       "1      1  2004         159554        942 2004-05-19 17:04:00     179   \n",
       "2      2  2015        1150196       5580 2015-06-24 18:11:00     672   \n",
       "3      3  1997          25533        498 2000-06-27 18:18:00    3310   \n",
       "4      4  2009         434563       3798 2009-08-18 17:38:00     462   \n",
       "\n",
       "  orientacao partido_bloco           sigla tipo           votacao_id  \n",
       "0   Liberado          REDE       Repr.REDE  MPV -2762957986797302247  \n",
       "1        Não           PTB             PTB  MPV -3775565451622503749  \n",
       "2        Sim           PSB             PSB  MPV -2263084988558699622  \n",
       "3        Não         PCDOB       PSB/PCDOB   PL  5813241135799075411  \n",
       "4        Não           PRB  PsbPCdoBPmnPrb  MPV  3936614211316915899  "
      ]
     },
     "execution_count": 14,
     "metadata": {},
     "output_type": "execute_result"
    }
   ],
   "source": [
    "votacao_id_table.head()"
   ]
  },
  {
   "cell_type": "code",
   "execution_count": 15,
   "metadata": {
    "collapsed": true
   },
   "outputs": [],
   "source": [
    "votacao_id_table = votacao_id_table.drop_duplicates(subset=['votacao_id'])\n",
    "votacao_id_table = votacao_id_table[['codsessao', 'datavotacao', 'codproposicao', 'votacao_id']]\n",
    "votacao_id_table.index = votacao_id_table['votacao_id']\n",
    "del votacao_id_table['votacao_id']"
   ]
  },
  {
   "cell_type": "code",
   "execution_count": 16,
   "metadata": {
    "collapsed": true
   },
   "outputs": [],
   "source": [
    "votacao_id_table.to_sql('id_proposicao_com_orient_governo', conn, schema='desenv', if_exists='replace')"
   ]
  },
  {
   "cell_type": "markdown",
   "metadata": {},
   "source": [
    "#### CRIA TABELA ORIENTACAO GOVERNO"
   ]
  },
  {
   "cell_type": "code",
   "execution_count": 17,
   "metadata": {},
   "outputs": [
    {
     "data": {
      "text/plain": [
       "<sqlalchemy.engine.result.ResultProxy at 0x7fa69ce8f6d8>"
      ]
     },
     "execution_count": 17,
     "metadata": {},
     "output_type": "execute_result"
    }
   ],
   "source": [
    "query = text(\"\"\"\n",
    "        DROP TABLE IF EXISTS {0}votacao_bancada_governo;\n",
    "        CREATE TABLE {0}votacao_bancada_governo AS\n",
    "            SELECT *\n",
    "        FROM a_camdep.votacao_bancada_partidos\n",
    "        WHERE partido_bloco = 'GOV'\n",
    "        \"\"\".format(SCHEMA))\n",
    "conn.execute(query, autocommit=True)"
   ]
  },
  {
   "cell_type": "markdown",
   "metadata": {},
   "source": [
    "#### ATUALIZA TABELA DA VOTACAO DOS DEPUTADOS COM OS PARTIDOS CERTOS"
   ]
  },
  {
   "cell_type": "markdown",
   "metadata": {
    "collapsed": true
   },
   "source": [
    "#### GERA TABELA VOTACAO PARTIDO COM GOVERNO"
   ]
  },
  {
   "cell_type": "code",
   "execution_count": 18,
   "metadata": {
    "collapsed": true
   },
   "outputs": [],
   "source": [
    "# puxa tabela do sql\n",
    "fidelidade_partido = pd.read_sql_query('SELECT * FROM a_camdep.votacao_bancada_partidos ORDER BY datavotacao DESC'.format(SCHEMA),\n",
    "                                       conn)\n",
    "# joga fora as entradas duplicadas por id e partido/bloco\n",
    "fidelidade_partido = fidelidade_partido.drop_duplicates(subset=['votacao_id', 'partido_bloco'])\n",
    "# reshape a tabela de fidelidade para ficar votacao_id x partidos\n",
    "votacao_partido = fidelidade_partido.pivot(index='votacao_id', columns='partido_bloco', values='orientacao')\n",
    "# seleciona a posicao do governo e exclui ela da tabela geral\n",
    "votacao_gov = votacao_partido['GOV']\n",
    "del votacao_partido['GOV']\n",
    "# cria tabela verdade de 0 e 1 para cada votacao para cada partido\n",
    "votacao_partido = votacao_partido.apply(lambda partidos: partidos == votacao_gov)\n",
    "def bin(x):\n",
    "    if x:\n",
    "        return 1\n",
    "    else:\n",
    "        return 0\n",
    "votacao_partido = votacao_partido.applymap(bin)\n",
    "# junta tabela de id com votacao partido para ter info das datas e proposicao\n",
    "votacao_partido.reset_index(level=0, inplace=True)\n",
    "\n",
    "\n",
    "# upload para sql\n",
    "votacao_partido.rename(columns=lambda x: x.lower(), inplace=True)\n",
    "votacao_partido.to_sql('votacao_governo_partidos_dia', conn, schema='desenv', if_exists='replace')"
   ]
  },
  {
   "cell_type": "markdown",
   "metadata": {},
   "source": [
    "#### GERA TABELA VOTACAO DEPUTADO COM GOVERNO\n"
   ]
  },
  {
   "cell_type": "code",
   "execution_count": 19,
   "metadata": {
    "collapsed": true
   },
   "outputs": [],
   "source": [
    "# puxa tabela do sql\n",
    "fidelidade_deputado_raw = pd.read_sql_query('SELECT * FROM a_camdep.votacao_deputado ORDER BY datavotacao DESC'.format(SCHEMA),\n",
    "                                        conn)\n",
    "vot_governo = pd.read_sql_query('SELECT * FROM desenv.cam_votacao_bancada_governo',\n",
    "                                        conn)"
   ]
  },
  {
   "cell_type": "code",
   "execution_count": 20,
   "metadata": {
    "collapsed": true
   },
   "outputs": [],
   "source": [
    "vot_governo = vot_governo[['codproposicao', 'codsessao', 'datavotacao', 'orientacao', 'votacao_id']]"
   ]
  },
  {
   "cell_type": "code",
   "execution_count": 21,
   "metadata": {
    "collapsed": true
   },
   "outputs": [],
   "source": [
    "# merge hash para cada votacao na tabela de fidelidade\n",
    "fidelidade_deputado = fidelidade_deputado_raw.merge(vot_governo,\n",
    "                                                on=['codproposicao', 'codsessao', 'datavotacao'])\n",
    "\n",
    "# deleta entradas duplicadas \n",
    "fidelidade_deputado = fidelidade_deputado.drop_duplicates(subset=['votacao_id', 'idecadastro'])\n",
    "\n",
    "# deleta entradas que o governo não se posicionou\n",
    "fidelidade_deputado = fidelidade_deputado.dropna(subset=['orientacao'])\n",
    "\n",
    "# deleta entradas que o governo se posicionou como 'Liberado'\n",
    "fidelidade_deputado = fidelidade_deputado[fidelidade_deputado['orientacao'] != 'Liberado']\n",
    "\n",
    "# deleta entradas que o governo se posicionou como 'Abstenção'\n",
    "fidelidade_deputado = fidelidade_deputado[fidelidade_deputado['orientacao'] != 'Abstenção']\n",
    "\n",
    "# deleta entradas com voto parlamentar  '-'\n",
    "fidelidade_deputado = fidelidade_deputado[fidelidade_deputado['voto'] != '-']\n",
    "\n",
    "# deleta entradas com voto parlamentar  'Art. 17'\n",
    "fidelidade_deputado = fidelidade_deputado[fidelidade_deputado['voto'] != 'Art. 17']\n",
    "\n",
    "# cria coluna de apoio\n",
    "fidelidade_deputado['fidelidade'] = np.where(fidelidade_deputado['orientacao'] \n",
    "                                             == fidelidade_deputado['voto'],\n",
    "                                            1, 0)\n",
    "# cria coluna para quorum\n",
    "fidelidade_deputado = fidelidade_deputado.merge(fidelidade_deputado.groupby('votacao_id').count()['codproposicao'].to_frame().reset_index(), on='votacao_id')\n",
    "fidelidade_deputado.rename(columns={'codproposicao_y': 'quorum'}, inplace=True)\n",
    "\n",
    "# cria coluna partido atualizado\n",
    "fidelidade_deputado['partido_atualizado'] = fidelidade_deputado['partido'].apply(substitui_sigla)\n",
    "\n",
    "# cria coluna do tamanho da bancada na votação\n",
    "tam_bancada = fidelidade_deputado.groupby(['votacao_id', 'partido_atualizado']).count().reset_index()[['votacao_id','partido_atualizado', 'tipo']]\n",
    "fidelidade_deputado = fidelidade_deputado.merge(tam_bancada, on=['votacao_id', 'partido_atualizado'])\n",
    "fidelidade_deputado.rename(columns={'tipo_y': 'tam_bancada'}, inplace=True)\n",
    "\n",
    "# prepara e up no banco\n",
    "fidelidade_deputado.rename(columns=lambda x: x.lower(), inplace=True)"
   ]
  },
  {
   "cell_type": "code",
   "execution_count": 22,
   "metadata": {
    "collapsed": true
   },
   "outputs": [],
   "source": [
    "fidelidade_deputado.to_sql('votacao_governo_deputados_dia',\n",
    "                           conn, \n",
    "                           schema='desenv', \n",
    "                           if_exists='replace',\n",
    "                           chunksize=10000)"
   ]
  }
 ],
 "metadata": {
  "kernelspec": {
   "display_name": "Python 3",
   "language": "python",
   "name": "python3"
  },
  "language_info": {
   "codemirror_mode": {
    "name": "ipython",
    "version": 3
   },
   "file_extension": ".py",
   "mimetype": "text/x-python",
   "name": "python",
   "nbconvert_exporter": "python",
   "pygments_lexer": "ipython3",
   "version": "3.5.2+"
  }
 },
 "nbformat": 4,
 "nbformat_minor": 2
}
