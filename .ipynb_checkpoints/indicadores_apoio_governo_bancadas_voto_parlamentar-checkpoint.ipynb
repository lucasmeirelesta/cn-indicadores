{
 "cells": [
  {
   "cell_type": "markdown",
   "metadata": {},
   "source": [
    "APOIO GOV:\n",
    "    \n",
    "    Ranking partido [ano/mes, semana, partido, apoio]\n",
    "\n",
    "    Ranking Politicos Top,Bottom [ano/mes, semana, politico, apoio]\n",
    "\n",
    "    Média Mensal/Semanal por Politico e Partido \n",
    "    Tempos: Legislatura, Mês, Ano, Histórico\n",
    "    [ano/mes, semana, partido, apoio] | [ano/mes, semana, politico, apoio]\n",
    "\n",
    "APOIO PARTIDO:\n",
    "    \n",
    "    Ranking Partido [ano/mes, semana, partido, apoio]\n",
    "    \n",
    "    Ranking Político [ano/mes, semana, politico, apoio]\n",
    "    \n",
    "    Média Mensal/Semanal por Político e Partido \n",
    "    Tempos: Legislatura, Mês, Ano, Histórico\n",
    "    [ano/mes, semana, partido, apoio-interno] | [ano/mes, semana, politico, apoio-interno]"
   ]
  },
  {
   "cell_type": "code",
   "execution_count": 58,
   "metadata": {},
   "outputs": [
    {
     "name": "stdout",
     "output_type": "stream",
     "text": [
      "Populating the interactive namespace from numpy and matplotlib\n"
     ]
    },
    {
     "name": "stderr",
     "output_type": "stream",
     "text": [
      "/usr/local/lib/python3.5/dist-packages/IPython/core/magics/pylab.py:161: UserWarning:\n",
      "\n",
      "pylab import has clobbered these variables: ['text']\n",
      "`%matplotlib` prevents importing * from pylab and numpy\n",
      "\n"
     ]
    }
   ],
   "source": [
    "import sqlalchemy\n",
    "from sqlalchemy.sql import text\n",
    "import pandas as pd\n",
    "import glob\n",
    "import os\n",
    "import pickle\n",
    "import seaborn as sns\n",
    "%matplotlib inline  \n",
    "%pylab inline\n",
    "pylab.rcParams['figure.figsize'] = (20,12)"
   ]
  },
  {
   "cell_type": "markdown",
   "metadata": {},
   "source": [
    "#### CONECTA AO BANCO"
   ]
  },
  {
   "cell_type": "code",
   "execution_count": 59,
   "metadata": {
    "collapsed": true
   },
   "outputs": [],
   "source": [
    "host= '172.16.4.229'\n",
    "database= 'cts'\n",
    "user= 'cts'\n",
    "password= 'VgyBhu876%%%'\n",
    "\n",
    "url = 'postgresql://{}:{}@{}/{}'\n",
    "url = url.format(user, password, host, database)\n",
    "conn = sqlalchemy.create_engine(url)"
   ]
  },
  {
   "cell_type": "markdown",
   "metadata": {},
   "source": [
    "##### CONECTA PLOTLY"
   ]
  },
  {
   "cell_type": "code",
   "execution_count": 121,
   "metadata": {
    "collapsed": true
   },
   "outputs": [],
   "source": [
    "import plotly\n",
    "import plotly.plotly as py\n",
    "import plotly.graph_objs as go\n",
    "\n",
    "plotly.tools.set_credentials_file(username='JoaoCarabetta', api_key='K9ie7yMTkEZBHVECZm3C')\n",
    "#plotly.tools.set_credentials_file(username='joaocarabettafgv', api_key='46AhR4PoX9Tu1ROZ8Yiz')"
   ]
  },
  {
   "cell_type": "markdown",
   "metadata": {},
   "source": [
    "#### MOVING AVERAGES"
   ]
  },
  {
   "cell_type": "code",
   "execution_count": 127,
   "metadata": {
    "collapsed": true
   },
   "outputs": [],
   "source": [
    "#### Double Moving Average\n",
    "def dema(series, halflife=30, min_periods=10):\n",
    "    \n",
    "    ma = series.ewm(halflife=halflife, min_periods=min_periods).mean()\n",
    "    \n",
    "    dema = 2*ma - ma.ewm(halflife=halflife).mean()\n",
    "    \n",
    "    return dema\n",
    "\n",
    "#### TRIPLE MOVING AVERAGE\n",
    "def tema(series, halflife=30):\n",
    "    \n",
    "    ma = series.ewm(halflife=halflife).mean()\n",
    "    \n",
    "    dma = ma.ewm(halflife=halflife).mean()\n",
    "    \n",
    "    tma = 3*ma - 3*dma + dma.ewm(halflife=halflife).mean()\n",
    "    \n",
    "    return tma"
   ]
  },
  {
   "cell_type": "code",
   "execution_count": 125,
   "metadata": {
    "collapsed": true
   },
   "outputs": [],
   "source": [
    "?fidelidade_deputado_partido['PT'].ewm(halflife=halflife).mean()"
   ]
  },
  {
   "cell_type": "markdown",
   "metadata": {},
   "source": [
    "#### INFOS GERAIS"
   ]
  },
  {
   "cell_type": "code",
   "execution_count": 62,
   "metadata": {
    "collapsed": true
   },
   "outputs": [],
   "source": [
    "relacoes = {'SD': ['SDD', 'SOLIDARIED', 'SD'],\n",
    "           'GOV': ['APOIO AO GOVERNO', 'GOV', 'GOV.'],\n",
    "           'DEM': ['DEM', 'PFL'],\n",
    "           'PR': ['PRONA', 'PL', 'PR', 'PST'],\n",
    "           'PTB': ['PAN', 'PTB'],\n",
    "           'PRB': ['PRB', 'PMR'],\n",
    "           'PP': ['PP', 'PPB']}\n",
    "\n",
    "color_pec ='#2980b9'\n",
    "color_pl = '#c0392b'"
   ]
  },
  {
   "cell_type": "code",
   "execution_count": 63,
   "metadata": {
    "collapsed": true
   },
   "outputs": [],
   "source": [
    "def substitui_sigla(sigla):\n",
    "    \n",
    "    for final, values in relacoes.items():\n",
    "        if sigla.upper() in values:\n",
    "            return final\n",
    "    else:\n",
    "        return sigla.upper()"
   ]
  },
  {
   "cell_type": "markdown",
   "metadata": {},
   "source": [
    "##### Load votações dos deputados e votacao_id_table"
   ]
  },
  {
   "cell_type": "code",
   "execution_count": 64,
   "metadata": {
    "collapsed": true
   },
   "outputs": [],
   "source": [
    "fidelidade_deputado = pd.read_sql_query('SELECT * FROM desenv.votacao_governo_deputados_dia ORDER BY datavotacao DESC',\n",
    "                                        conn)\n",
    "votacao_id_table = pd.read_sql_query('SELECT * FROM desenv.id_proposicao_com_orient_governo',\n",
    "                                        conn)"
   ]
  },
  {
   "cell_type": "markdown",
   "metadata": {},
   "source": [
    "#### Por voto do deputado no partido"
   ]
  },
  {
   "cell_type": "code",
   "execution_count": 142,
   "metadata": {
    "collapsed": true
   },
   "outputs": [],
   "source": [
    "from collections import OrderedDict\n",
    "partidos_todos =  OrderedDict( \n",
    "                    [('PMDB',{'cor': '#EA642A'}),\n",
    "                    ('PT',{'cor': '#D81224'}),\n",
    "                    ('PSDB',{'cor': '#1F5393'}),\n",
    "                    ('PSB',{'cor': '#F7AF32'}),\n",
    "                    ('DEM', {'cor':'#1B8396'}),\n",
    "                    ('PTB', { 'cor':'#27B8E8'}),\n",
    "                    ('PDT', { 'cor':'#9D8577'}),\n",
    "                    ('PP', { 'cor':'#CCBE70'}),\n",
    "                    ('PPS', { 'cor':'#9374AE'}),\n",
    "                    ('PV', { 'cor':'#69963D'}),\n",
    "                    ('PR', { 'cor':'#DAA05C'}),\n",
    "                    ('PCdoB', { 'cor':'#BE4060'}),\n",
    "                    ('PSC', { 'cor':'#F9CCAF'}),\n",
    "                    ('PRB', { 'cor':'#5D879D'}),\n",
    "                    ('PSOL', { 'cor':'#FCDB3A'}),\n",
    "                   # ('PSTU', { 'cor':'#EB757F'}),\n",
    "                    ('PTC', { 'cor':'#E1DBB8'}),\n",
    "                    ('PMN', { 'cor':'#69C3CE'}),\n",
    "                    ('PRP', { 'cor':'#D2D63A'}),\n",
    "                    ('PTdoB', { 'cor':'#7D1317'}),\n",
    "                    ('PCB', { 'cor':'#B8452C'}),\n",
    "                    ('PRTB', { 'cor':'#B18EBD'}),\n",
    "                    ('PHS', { 'cor':'#9FB292'}),\n",
    "                    ('PSDC', { 'cor':'#109745'}),\n",
    "                    ('PCO', { 'cor':'#575656'}),\n",
    "                    ('PTN', { 'cor':'#218CCD'}),\n",
    "                    ('PSL', { 'cor':'#E5E68E'}),\n",
    "                    ('PSD', { 'cor':'#803367'}),\n",
    "                    ('PPL', { 'cor':'#B3B2B2'}),\n",
    "                    ('PEN', { 'cor':'#9F742E'}),\n",
    "                    ('PROS', { 'cor':'#E63D85'})])\n",
    "# partidos relevantes e cor associada\n",
    "partidos_relevantes = {'pt':   {'cor': '#e74c3c', 'bancada': 58},\n",
    "                       'psdb': {'cor': '#3498db', 'bancada': 47},\n",
    "                       'pmdb': {'cor': '#2ecc71', 'bancada': 65},\n",
    "                       'dem':  {'cor': '#34495e', 'bancada': 29},\n",
    "                       'pp':   {'cor': '#bdc3c7', 'bancada': 47},\n",
    "                       'pr':   {'cor': '#9b59b6', 'bancada': 39},\n",
    "                       'psb':  {'cor':'#f1c40f', 'bancada': 35},\n",
    "                       'psd':  {'cor':'#1abc9c', 'bancada': 36},\n",
    "                       'prb':  {'cor':'#16a085', 'bancada': 24},\n",
    "                       'ptb':  {'cor':'#34495e', 'bancada': 17},\n",
    "                       'pdt':  {'cor':'#7f8c8d', 'bancada': 20},\n",
    "                      }\n",
    "\n",
    "partidos_relevantes = sorted(partidos_relevantes.items(), key=lambda x: x[1]['bancada'], reverse=True)"
   ]
  },
  {
   "cell_type": "code",
   "execution_count": 12,
   "metadata": {},
   "outputs": [
    {
     "ename": "NameError",
     "evalue": "name 'fidelidade_deputado_partido' is not defined",
     "output_type": "error",
     "traceback": [
      "\u001b[0;31m---------------------------------------------------------------------------\u001b[0m",
      "\u001b[0;31mNameError\u001b[0m                                 Traceback (most recent call last)",
      "\u001b[0;32m<ipython-input-12-7d86e1007165>\u001b[0m in \u001b[0;36m<module>\u001b[0;34m()\u001b[0m\n\u001b[1;32m      1\u001b[0m \u001b[0;31m# resto dos partidos\u001b[0m\u001b[0;34m\u001b[0m\u001b[0;34m\u001b[0m\u001b[0m\n\u001b[0;32m----> 2\u001b[0;31m \u001b[0mresto_partidos\u001b[0m \u001b[0;34m=\u001b[0m \u001b[0mlist\u001b[0m\u001b[0;34m(\u001b[0m\u001b[0mmap\u001b[0m\u001b[0;34m(\u001b[0m\u001b[0;32mlambda\u001b[0m \u001b[0mx\u001b[0m\u001b[0;34m:\u001b[0m\u001b[0mx\u001b[0m\u001b[0;34m,\u001b[0m\u001b[0mlist\u001b[0m\u001b[0;34m(\u001b[0m\u001b[0mfidelidade_deputado_partido\u001b[0m\u001b[0;34m.\u001b[0m\u001b[0mcolumns\u001b[0m\u001b[0;34m)\u001b[0m\u001b[0;34m)\u001b[0m\u001b[0;34m)\u001b[0m\u001b[0;34m\u001b[0m\u001b[0m\n\u001b[0m\u001b[1;32m      3\u001b[0m \u001b[0mpartidos_relevantes_siglas\u001b[0m \u001b[0;34m=\u001b[0m \u001b[0;34m[\u001b[0m\u001b[0mp\u001b[0m\u001b[0;34m[\u001b[0m\u001b[0;36m0\u001b[0m\u001b[0;34m]\u001b[0m\u001b[0;34m.\u001b[0m\u001b[0mupper\u001b[0m\u001b[0;34m(\u001b[0m\u001b[0;34m)\u001b[0m \u001b[0;32mfor\u001b[0m \u001b[0mp\u001b[0m \u001b[0;32min\u001b[0m \u001b[0mpartidos_relevantes\u001b[0m\u001b[0;34m]\u001b[0m\u001b[0;34m\u001b[0m\u001b[0m\n\u001b[1;32m      4\u001b[0m \u001b[0mresto_partidos\u001b[0m \u001b[0;34m=\u001b[0m \u001b[0;34m[\u001b[0m\u001b[0mr\u001b[0m \u001b[0;32mfor\u001b[0m \u001b[0mr\u001b[0m \u001b[0;32min\u001b[0m \u001b[0mresto_partidos\u001b[0m \u001b[0;32mif\u001b[0m \u001b[0mr\u001b[0m \u001b[0;32mnot\u001b[0m \u001b[0;32min\u001b[0m \u001b[0mpartidos_relevantes_siglas\u001b[0m\u001b[0;34m]\u001b[0m\u001b[0;34m\u001b[0m\u001b[0m\n",
      "\u001b[0;31mNameError\u001b[0m: name 'fidelidade_deputado_partido' is not defined"
     ]
    }
   ],
   "source": [
    "# resto dos partidos\n",
    "resto_partidos = list(map(lambda x:x,list(fidelidade_deputado_partido.columns)))\n",
    "partidos_relevantes_siglas = [p[0].upper() for p in partidos_relevantes]\n",
    "resto_partidos = [r for r in resto_partidos if r not in partidos_relevantes_siglas]"
   ]
  },
  {
   "cell_type": "code",
   "execution_count": 67,
   "metadata": {},
   "outputs": [
    {
     "data": {
      "text/html": [
       "<div>\n",
       "<table border=\"1\" class=\"dataframe\">\n",
       "  <thead>\n",
       "    <tr style=\"text-align: right;\">\n",
       "      <th></th>\n",
       "      <th>index</th>\n",
       "      <th>codproposicao_x</th>\n",
       "      <th>tipo_x</th>\n",
       "      <th>numero</th>\n",
       "      <th>ano</th>\n",
       "      <th>codsessao</th>\n",
       "      <th>datavotacao</th>\n",
       "      <th>idecadastro</th>\n",
       "      <th>nome</th>\n",
       "      <th>partido</th>\n",
       "      <th>uf</th>\n",
       "      <th>voto</th>\n",
       "      <th>orientacao</th>\n",
       "      <th>votacao_id</th>\n",
       "      <th>fidelidade</th>\n",
       "      <th>quorum</th>\n",
       "      <th>partido_atualizado</th>\n",
       "      <th>tam_bancada</th>\n",
       "    </tr>\n",
       "  </thead>\n",
       "  <tbody>\n",
       "    <tr>\n",
       "      <th>0</th>\n",
       "      <td>0</td>\n",
       "      <td>2123843</td>\n",
       "      <td>PEC</td>\n",
       "      <td>304</td>\n",
       "      <td>2017</td>\n",
       "      <td>16201</td>\n",
       "      <td>2017-05-10 21:21:00</td>\n",
       "      <td>178942.0</td>\n",
       "      <td>Marco Antônio Cabral</td>\n",
       "      <td>PMDB</td>\n",
       "      <td>RJ</td>\n",
       "      <td>Sim</td>\n",
       "      <td>Sim</td>\n",
       "      <td>8719782355274205004</td>\n",
       "      <td>1</td>\n",
       "      <td>422</td>\n",
       "      <td>PMDB</td>\n",
       "      <td>58</td>\n",
       "    </tr>\n",
       "  </tbody>\n",
       "</table>\n",
       "</div>"
      ],
      "text/plain": [
       "   index  codproposicao_x tipo_x  numero   ano  codsessao         datavotacao  \\\n",
       "0      0          2123843    PEC     304  2017      16201 2017-05-10 21:21:00   \n",
       "\n",
       "   idecadastro                  nome partido  uf voto orientacao  \\\n",
       "0     178942.0  Marco Antônio Cabral    PMDB  RJ  Sim        Sim   \n",
       "\n",
       "            votacao_id  fidelidade  quorum partido_atualizado  tam_bancada  \n",
       "0  8719782355274205004           1     422               PMDB           58  "
      ]
     },
     "execution_count": 67,
     "metadata": {},
     "output_type": "execute_result"
    }
   ],
   "source": [
    "fidelidade_deputado.head(1)"
   ]
  },
  {
   "cell_type": "code",
   "execution_count": 132,
   "metadata": {
    "collapsed": true
   },
   "outputs": [],
   "source": [
    "# SUBSTITUI OS PARTIDOS QUE SE UNIRAM OU MUDARAM DE SIGLA\n",
    "fidelidade_deputado['partido_atualizado'] = fidelidade_deputado['partido'].apply(substitui_sigla) "
   ]
  },
  {
   "cell_type": "code",
   "execution_count": 133,
   "metadata": {
    "collapsed": true
   },
   "outputs": [],
   "source": [
    "# CALCULA MEDIA GERAL\n",
    "votos_total = fidelidade_deputado[['votacao_id', 'fidelidade']].groupby(['votacao_id']).sum()\n",
    "quorum_total     = fidelidade_deputado[['votacao_id', 'fidelidade']].groupby(['votacao_id']).count().rename(columns={'fidelidade': 'quorum_total'})\n",
    "fidelidade_total = votos_total['fidelidade'].divide(quorum_total['quorum_total'])"
   ]
  },
  {
   "cell_type": "code",
   "execution_count": 134,
   "metadata": {
    "collapsed": true
   },
   "outputs": [],
   "source": [
    "fidelidade_deputado_partido = fidelidade_deputado.groupby(\n",
    "                                        ['partido_atualizado', 'votacao_id']).apply(\n",
    "                                                lambda x: sum(x['fidelidade'])/x['tam_bancada'].unique()[0])"
   ]
  },
  {
   "cell_type": "code",
   "execution_count": 135,
   "metadata": {
    "collapsed": true
   },
   "outputs": [],
   "source": [
    "fidelidade_deputado_partido = fidelidade_deputado_partido.to_frame().reset_index().pivot(index='votacao_id', columns='partido_atualizado', values=0)"
   ]
  },
  {
   "cell_type": "code",
   "execution_count": 136,
   "metadata": {
    "collapsed": true
   },
   "outputs": [],
   "source": [
    "fidelidade_deputado_partido = pd.concat([fidelidade_deputado_partido,fidelidade_total], axis=1).rename(columns={0:'Apoio Médio'})"
   ]
  },
  {
   "cell_type": "code",
   "execution_count": 137,
   "metadata": {
    "collapsed": true
   },
   "outputs": [],
   "source": [
    "fidelidade_deputado_partido = fidelidade_deputado_partido.reset_index().merge(votacao_id_table[['votacao_id', 'datavotacao']], on='votacao_id')"
   ]
  },
  {
   "cell_type": "code",
   "execution_count": 138,
   "metadata": {
    "collapsed": true
   },
   "outputs": [],
   "source": [
    "fidelidade_deputado_partido.index = fidelidade_deputado_partido['datavotacao']\n",
    "del fidelidade_deputado_partido['datavotacao']\n",
    "del fidelidade_deputado_partido['votacao_id']\n",
    "fidelidade_deputado_partido.sort_index(inplace=True)"
   ]
  },
  {
   "cell_type": "code",
   "execution_count": 139,
   "metadata": {
    "collapsed": true,
    "scrolled": true
   },
   "outputs": [],
   "source": [
    "### FILTRA OS PARTIDOS POR PERIODO\n",
    "\n",
    "def cut_series(series, timestamp):       \n",
    "    a = series[:timestamp].apply(lambda x: np.nan)\n",
    "    b = series[timestamp:]\n",
    "    return a.append(b)\n",
    "\n",
    "partidos_filtrados = [('PSDC', '2014-06-01'),\n",
    "                      ('PTN', '2015-02-01'),\n",
    "                      ('PHS', '2007-03-01'),\n",
    "                      ('PSL', '2011-01-01'),\n",
    "                      ('PMN', '2007-01-01'),\n",
    "                      ('PSC', '2003-01-01'),\n",
    "                      ('PSD', '2012-01-01')]\n",
    "\n",
    "for partido, timestamp in partidos_filtrados:\n",
    "    \n",
    "    fidelidade_deputado_partido[partido] = cut_series(fidelidade_deputado_partido[partido], timestamp)"
   ]
  },
  {
   "cell_type": "code",
   "execution_count": 140,
   "metadata": {
    "collapsed": true
   },
   "outputs": [],
   "source": [
    "## RESCALE TO [-1 to 1]\n",
    "\n",
    "fidelidade_deputado_partido = fidelidade_deputado_partido.applymap(lambda x: 2*x - 1)"
   ]
  },
  {
   "cell_type": "code",
   "execution_count": null,
   "metadata": {
    "collapsed": true
   },
   "outputs": [],
   "source": [
    "fidelidade_deputado_partido"
   ]
  },
  {
   "cell_type": "code",
   "execution_count": 212,
   "metadata": {},
   "outputs": [
    {
     "name": "stdout",
     "output_type": "stream",
     "text": [
      "The draw time for this plot will be slow for clients without much RAM.\n"
     ]
    },
    {
     "name": "stderr",
     "output_type": "stream",
     "text": [
      "/usr/local/lib/python3.5/dist-packages/plotly/api/v1/clientresp.py:40: UserWarning:\n",
      "\n",
      "Estimated Draw Time Slow\n",
      "\n"
     ]
    },
    {
     "data": {
      "text/html": [
       "<iframe id=\"igraph\" scrolling=\"no\" style=\"border:none;\" seamless=\"seamless\" src=\"https://plot.ly/~JoaoCarabetta/8.embed\" height=\"850px\" width=\"600px\"></iframe>"
      ],
      "text/plain": [
       "<plotly.tools.PlotlyDisplay object>"
      ]
     },
     "execution_count": 212,
     "metadata": {},
     "output_type": "execute_result"
    }
   ],
   "source": [
    "data = []\n",
    "\n",
    "\n",
    "halflife = 90\n",
    "min_periods = 20\n",
    "# MEDIA GERAL\n",
    "partido = 'Apoio Médio'\n",
    "d = go.Scatter(\n",
    "                name = '{0}'.format(partido),\n",
    "                mode = 'lines',\n",
    "                line = dict(\n",
    "                            color = '#7F7F7F',\n",
    "                            width = 2),\n",
    "\n",
    "                x = fidelidade_deputado_partido.index, \n",
    "                y = dema(fidelidade_deputado_partido[partido], halflife=halflife, min_periods=min_periods)\n",
    "        )\n",
    "data.append(d)\n",
    "\n",
    "\n",
    "#### MEDIA FIXA 60 VOTACOES\n",
    "for partido, args in partidos_todos.items():\n",
    "    \n",
    "    try:\n",
    "        y = dema(fidelidade_deputado_partido[partido.upper()], halflife=halflife, min_periods=min_periods)\n",
    "    except:\n",
    "        continue\n",
    "    d = go.Scatter(\n",
    "                visible = \"legendonly\",\n",
    "                name = '{0}'.format(partido.upper()),\n",
    "                mode = 'lines',\n",
    "                line = dict(\n",
    "                            color = (args['cor']),\n",
    "                            width = 2),\n",
    "                x = fidelidade_deputado_partido.index,\n",
    "                y = y\n",
    "        )\n",
    "    data.append(d)\n",
    "\n",
    "rectangle_color = '#ECEFF0'\n",
    "opacity = 0.8\n",
    "presidentes = [\n",
    "        # LULA I\n",
    "        {\n",
    "            'type': 'rect','xref': 'x','yref': 'y','x0': '2003-01-01','y0': -1.1,'x1': '2006-12-31','y1': 2,\n",
    "            'fillcolor':rectangle_color ,'opacity': opacity ,'line': {\n",
    "                'width': 0\n",
    "            }, 'layer':'below',\n",
    "        },\n",
    "        # DILMA I\n",
    "        {\n",
    "            'type': 'rect','xref': 'x','yref': 'y','x0': '2011-01-01','y0': -1.1,'x1': '2014-12-31','y1': 2,\n",
    "            'fillcolor': rectangle_color,'opacity': opacity ,'line': {\n",
    "                'width': 0\n",
    "            },'layer':'below'\n",
    "        },\n",
    "        # TEMER \n",
    "        {\n",
    "            'type': 'rect','xref': 'x','yref': 'y','x0': '2016-05-01','y0': -1.1,\n",
    "            'x1': datetime.datetime.strftime(fidelidade_deputado_partido.index[-1], '%Y-%m-%d'),\n",
    "            'y1': 2,\n",
    "            'fillcolor': rectangle_color,'opacity': opacity ,'line': {\n",
    "                'width': 0,\n",
    "            }, 'layer':'below'\n",
    "        }]  \n",
    "\n",
    "y_pred = 1.05\n",
    "presidentes_hist = [dict(x='2000-12-31',\n",
    "                      y=y_pred,\n",
    "                      xref='x', yref='paper',\n",
    "                      text='FHC II',\n",
    "                      ax=0, ay=-30,\n",
    "                      showarrow=False,\n",
    "                        font=dict(size=9)),\n",
    "                    dict(x='2004-12-31',\n",
    "                      y=y_pred,\n",
    "                      xref='x', yref='paper',\n",
    "                      text='LULA I',\n",
    "                      ax=0, ay=-30,\n",
    "                      showarrow=False,\n",
    "                        font=dict(size=9)),\n",
    "                   dict(x='2008-12-31',\n",
    "                      y=y_pred,\n",
    "                      xref='x', yref='paper',\n",
    "                      text='LULA II',\n",
    "                      ax=0, ay=-30,\n",
    "                      showarrow=False,\n",
    "                       font=dict(size=9)),\n",
    "                   dict(x='2012-12-31',\n",
    "                      y=y_pred,\n",
    "                      xref='x', yref='paper',\n",
    "                      text='DILMA I',\n",
    "                      ax=0, ay=-30,\n",
    "                      showarrow=False,\n",
    "                       font=dict(size=9)),\n",
    "                   dict(x='2015-08-15',\n",
    "                      y=y_pred,\n",
    "                      xref='x', yref='paper',\n",
    "                      text='DILMA II',\n",
    "                      ax=0, ay=-30,\n",
    "                      showarrow=False,\n",
    "                       font=dict(size=9)),\n",
    "                   dict(x='2016-12-01',\n",
    "                      y=y_pred,\n",
    "                      xref='x', yref='paper',\n",
    "                      text='TEMER',\n",
    "                      ax=0, ay=-30,\n",
    "                      showarrow=False,\n",
    "                      font=dict(size=9))]\n",
    "\n",
    "\n",
    "acontecimentos = [dict(x='2013-06-23',\n",
    "                      y=1,\n",
    "                      xref='x', yref='paper',\n",
    "                      text='Jornadas de <br> Junho',\n",
    "                      ax=0, ay=-20,\n",
    "                      font=dict(size=10)),\n",
    "               dict(x='2005-06-30',\n",
    "                    y=1,\n",
    "                    xref='x', yref='paper',\n",
    "                    text='Mensalão',\n",
    "                    ax=0, ay=-13,\n",
    "                   font=dict(size=10)),\n",
    "                dict(x='2008-09-15',\n",
    "                    y=1,\n",
    "                    xref='x', yref='paper',\n",
    "                    text='Crise <br> Financeira',\n",
    "                    ax=0, ay=-20,\n",
    "                    font=dict(size=10)),\n",
    "                dict(x='2016-08-31',\n",
    "                    y=1,\n",
    "                    xref='x', yref='paper',\n",
    "                    text='Impeachment',\n",
    "                    ax=0, ay=-13,\n",
    "                    font=dict(size=10)),]\n",
    "                    \n",
    "\n",
    "acontecimentos_lines =  [{\n",
    "                            'type': 'line',\n",
    "                            'x0': ac['x'],\n",
    "                            'y0': -1.1,\n",
    "                            'x1': ac['x'],\n",
    "                            'y1': 1.1,\n",
    "                            'line': {\n",
    "                                'color': 'black',\n",
    "                                'width': 1,\n",
    "                            },\n",
    "                        } for ac in acontecimentos]\n",
    "\n",
    "\n",
    "y_arrows = [dict(x=-0.012, y=1.02, ax=0, ay=17, arrowsize=1, arrowhead=4, xref='paper' )]\n",
    "\n",
    "y_button_president = -0.22\n",
    "updatemenus = list([\n",
    "    dict(buttons=list([   \n",
    "            dict(label = 'FHC II',\n",
    "                 method = 'relayout',\n",
    "                 args = [{'xaxis': dict(range=[datetime.datetime.strftime(fidelidade_deputado_partido.index[0], \n",
    "                                                                          '%Y-%m-%d'), \n",
    "                                               '2002-12-31'])}]),  \n",
    "           \n",
    "            dict(label = 'LULA I',\n",
    "                 method = 'relayout',\n",
    "                 args = [{'xaxis': dict(range=['2003-01-01', '2006-12-31'])}]),\n",
    "\n",
    "            dict(label = 'LULA II',\n",
    "                 method = 'relayout',\n",
    "                 args = [{'xaxis': dict(range=['2007-01-01', '2010-12-31'])}]),\n",
    "\n",
    "            dict(label = 'DILMA I',\n",
    "                 method = 'relayout',\n",
    "                 args = [{'xaxis': dict(range=['2011-01-01', '2014-12-31'])}]),\n",
    "\n",
    "            dict(label = 'DILMA II',\n",
    "                 method = 'relayout',\n",
    "                 args = [{'xaxis': dict(range=['2015-01-01', '2016-05-01'])}]),\n",
    "        \n",
    "            dict(label = 'TEMER',\n",
    "                 method = 'relayout',\n",
    "                 args = [{'xaxis': dict(range=['2016-05-01', \n",
    "                                               datetime.datetime.strftime(fidelidade_deputado_partido.index[-1], \n",
    "                                                                          '%Y-%m-%d')])}]),\n",
    "             dict(label = 'TODOS',\n",
    "                 method = 'relayout',\n",
    "                 args = [{'xaxis': dict(range=[datetime.datetime.strftime(fidelidade_deputado_partido.index[0], \n",
    "                                                                          '%Y-%m-%d'), \n",
    "                                               datetime.datetime.strftime(fidelidade_deputado_partido.index[-1], \n",
    "                                                                          '%Y-%m-%d')])}]),\n",
    "            ]),\n",
    "            direction = 'left',\n",
    "            pad = {'r': 10, 't': 10},\n",
    "            showactive = True,\n",
    "            active = 6,\n",
    "            type = 'buttons',\n",
    "            x = 0,\n",
    "            xanchor = 'left',\n",
    "            y = y_button_president,\n",
    "            yanchor = 'bottom' ),\n",
    "    \n",
    "    dict(buttons=list([   \n",
    "        dict(label = 'Acontecimentos',\n",
    "             method = 'relayout',\n",
    "             args = [{'annotations': acontecimentos +  subtitulos,\n",
    "                     'shapes': acontecimentos_lines,\n",
    "                     'xaxis': dict(tickvals=[x['x'] for x in acontecimentos])}]),\n",
    "        dict(label = 'Presidentes',\n",
    "             method = 'relayout',\n",
    "             args = [{'annotations': presidentes_hist + subtitulos,\n",
    "                     'shapes': presidentes,\n",
    "                     'xaxis': dict(tickvals=['2003', '2007', '2011', '2015'], tickformat='%Y')}]),\n",
    "         dict(label = 'Limpar',\n",
    "             method = 'relayout',\n",
    "             args = [{'annotations': subtitulos,\n",
    "                     'shapes': [],\n",
    "                      'xaxis': dict(tickvals=['2003', '2007', '2011', '2015'], tickformat='%Y')}]),\n",
    "        ]),\n",
    "            direction = 'left',\n",
    "            pad = {'r': 10, 't': 10},\n",
    "            showactive = True,\n",
    "            active = 2,\n",
    "            type = 'buttons',\n",
    "            x = 0,\n",
    "            xanchor = 'left',\n",
    "            y = -0.42,\n",
    "            yanchor = 'bottom' )\n",
    "])\n",
    "\n",
    "\n",
    "subtitulos = [dict(text='PRESIDENTES', font=dict(size=11), x=0, y=-0.12, yref='paper', xref='paper', showarrow=False),\n",
    "             dict(text='INFORMAÇÕES', font=dict(size=11), x=0, y=-0.32, yref='paper', xref='paper', showarrow=False),\n",
    "             dict(text='PARTIDOS', font=dict(size=11), x=0, y=-0.52, yref='paper', xref='paper', showarrow=False),\n",
    "             dict(text='Dados: <a href=\\\"http://www2.camara.leg.br/transparencia/dados-abertos/dados-abertos-legislativo\\\">Câmara dos Deputados</a>', \n",
    "                  font=dict(size=9), x=0, y=-0.95, yref='paper', xref='paper', showarrow=False),\n",
    "             dict(text='Atualizado: {}'.format(datetime.datetime.strftime(datetime.datetime.now(), '%d/%m/%Y')), \n",
    "                  font=dict(size=9), x=0.35, y=-0.95, yref='paper', xref='paper', showarrow=False),\n",
    "             dict(text='Elaborado por Congresso Em Números', \n",
    "                  font=dict(size=9), x=0.60, y=-0.95, yref='paper', xref='paper', showarrow=False),]\n",
    "\n",
    "legend = dict(orientation='h', x=0, y=-0.72, xanchor='center', yanchor='middle')\n",
    "\n",
    "yaxis = go.YAxis(\n",
    "    #title=\"Apoio ao Governo\",\n",
    "    range=[-1.1, 1.1],\n",
    "    showgrid=False,\n",
    "    showline=True,\n",
    "    ticks=\"\", \n",
    "    showticklabels=True,\n",
    "    #mirror=True,\n",
    "    linewidth=1,\n",
    "    ticktext=['Menos<br>Apoio', 'Mais<br>Apoio'],\n",
    "    tickvals=[-0.96, 1.09]\n",
    ")\n",
    "layout = dict(title = 'Apoio ao Governo das Bancadas Partidárias por Voto <br> Parlamentar na Câmara ',\n",
    "              xaxis = dict(#rangeslider=dict(),\n",
    "                            type='date'),\n",
    "              yaxis = yaxis,\n",
    "              autosize=False,\n",
    "              width=600,\n",
    "              height=850,\n",
    "              margin=go.Margin(\n",
    "                    l=50,\n",
    "                    r=30,\n",
    "                    b=310,\n",
    "                    t=130,\n",
    "                    pad=0\n",
    "                ),\n",
    "              paper_bgcolor='#F2F2F2',\n",
    "              plot_bgcolor='#F2F2F2',\n",
    "              updatemenus=updatemenus,\n",
    "              annotations=subtitulos,\n",
    "              legend=legend,\n",
    "              font = dict(family='Lato, sans-serif')\n",
    "              #shapes = presidentes,\n",
    ")\n",
    "\n",
    "            \n",
    "fig = dict(data = data, layout=layout)\n",
    "py.iplot(fig, filename='Apoio Governo Bancadas Voto Parlamentar')"
   ]
  },
  {
   "cell_type": "markdown",
   "metadata": {},
   "source": [
    "### APOIO AO GOVERNO DEPUTADOS\n",
    "\n",
    "Para calcular o índice de apoio ao governo, siga os passos:\n",
    "    - Calcule o número de votos a favor em cada votação\n",
    "    - Separe PECs de outras máterias\n",
    "    - Obtenha a média móvel *triangular* com intervalo de 30 dias dos votos a favor para cada tipo de matéria"
   ]
  },
  {
   "cell_type": "markdown",
   "metadata": {},
   "source": [
    "#### APOIO AO GOVERNO PEC | PLs"
   ]
  },
  {
   "cell_type": "code",
   "execution_count": 195,
   "metadata": {
    "collapsed": true
   },
   "outputs": [],
   "source": [
    "analise1 = fidelidade_deputado[fidelidade_deputado['quorum'] > 256]\n",
    "\n",
    "materias = analise1.pivot(index='votacao_id', columns='idecadastro', values='fidelidade').sum(axis=1).to_frame().reset_index()\n",
    "materias = materias.merge(analise1, on='votacao_id', how='left')[[0, 'datavotacao', 'tipo_x', 'numero', 'ano']].drop_duplicates()\n",
    "materias.rename(columns={0:'votos_a_favor', 'tipo_x':'tipo'}, inplace=True)\n",
    "\n",
    "materias.index = materias['datavotacao']\n",
    "del materias['datavotacao']\n",
    "\n",
    "pecs = materias[materias['tipo'] == 'PEC']\n",
    "pls  = materias[materias['tipo'] != 'PEC']"
   ]
  },
  {
   "cell_type": "code",
   "execution_count": 202,
   "metadata": {},
   "outputs": [
    {
     "name": "stderr",
     "output_type": "stream",
     "text": [
      "/usr/local/lib/python3.5/dist-packages/ipykernel_launcher.py:1: SettingWithCopyWarning:\n",
      "\n",
      "\n",
      "A value is trying to be set on a copy of a slice from a DataFrame\n",
      "\n",
      "See the caveats in the documentation: http://pandas.pydata.org/pandas-docs/stable/indexing.html#indexing-view-versus-copy\n",
      "\n"
     ]
    }
   ],
   "source": [
    "pecs.sort_index(inplace=True)\n",
    "pls.sort_index(inplace=True)"
   ]
  },
  {
   "cell_type": "code",
   "execution_count": 258,
   "metadata": {},
   "outputs": [
    {
     "data": {
      "text/html": [
       "<iframe id=\"igraph\" scrolling=\"no\" style=\"border:none;\" seamless=\"seamless\" src=\"https://plot.ly/~joaocarabettafgv/7.embed\" height=\"525px\" width=\"100%\"></iframe>"
      ],
      "text/plain": [
       "<plotly.tools.PlotlyDisplay object>"
      ]
     },
     "execution_count": 258,
     "metadata": {},
     "output_type": "execute_result"
    }
   ],
   "source": [
    "traces=[]\n",
    "\"\"\"\n",
    "for i, pec in pecs.iterrows():\n",
    "    trace_pec = go.Scattergl(\n",
    "                x=pec.name,\n",
    "                y=pec['votos_a_favor'],\n",
    "                mode = 'markers',\n",
    "                name = 'PECs',\n",
    "                marker= dict(size= 5,\n",
    "                    color= color_pec,\n",
    "                    opacity= 0.3\n",
    "                   ),\n",
    "                text= \"{} | {} | {}\".format(pec['tipo'], pec['numero'], pec['ano']))\n",
    "    traces.append(trace_pec)\n",
    "\n",
    "for i, pl in pls.iterrows():\n",
    "    trace_pl  = go.Scattergl(\n",
    "                x=pl.name,\n",
    "                y=pl['votos_a_favor'],\n",
    "                mode = 'markers',\n",
    "                name = 'PLs e Outros',\n",
    "                marker= dict(size= 5,\n",
    "                        color= color_pl,\n",
    "                        opacity= 0.3\n",
    "                       ),\n",
    "                text= \"{} | {} | {}\".format(pl['tipo'], pl['numero'], pl['ano']))\n",
    "    traces.append(trace_pl)\n",
    "\"\"\"\n",
    "    \n",
    "pec_media = go.Scatter(\n",
    "            name = 'PECs',\n",
    "            mode = 'lines',\n",
    "            line = dict(\n",
    "                    color = color_pec,\n",
    "                    width = 2),\n",
    "            x = pecs.index,\n",
    "            y = dema(pecs['votos_a_favor'], halflife=30)\n",
    "        )  \n",
    "\n",
    "traces.append(pec_media)\n",
    "\n",
    "pl_media = go.Scatter(\n",
    "            name = 'PLs e Outros',\n",
    "            mode = 'lines',\n",
    "            line = dict(\n",
    "                    color = color_pl,\n",
    "                    width = 2),\n",
    "            x = pls.index,\n",
    "            y = dema(pls['votos_a_favor'], halflife=30)\n",
    "        ) \n",
    "\n",
    "traces.append(pl_media)\n",
    "\n",
    "layout = dict(title = 'Votos a Favor da Orientação do Governo para cada Votacação',\n",
    "              yaxis = dict(zeroline = False,\n",
    "                           ),\n",
    "              xaxis = dict(zeroline = False,\n",
    "                           rangeslider=dict(),\n",
    "                            type='date'),\n",
    "              hovermode= 'closest')\n",
    "\n",
    "fig = dict(data = traces, layout=layout)\n",
    "py.iplot(fig, filename='apoio-governo-deputado')"
   ]
  },
  {
   "cell_type": "markdown",
   "metadata": {},
   "source": [
    "### Apoio ao Governo Partidos"
   ]
  },
  {
   "cell_type": "markdown",
   "metadata": {},
   "source": [
    "#### Por Orientação da Bancada"
   ]
  },
  {
   "cell_type": "code",
   "execution_count": 150,
   "metadata": {
    "collapsed": true
   },
   "outputs": [],
   "source": [
    "fidelidade_partido = pd.read_sql_query('SELECT * FROM desenv.votacao_governo_partidos_dia',\n",
    "                                        conn)"
   ]
  },
  {
   "cell_type": "code",
   "execution_count": 166,
   "metadata": {},
   "outputs": [
    {
     "name": "stdout",
     "output_type": "stream",
     "text": [
      "2455\n"
     ]
    },
    {
     "data": {
      "text/html": [
       "<div>\n",
       "<table border=\"1\" class=\"dataframe\">\n",
       "  <thead>\n",
       "    <tr style=\"text-align: right;\">\n",
       "      <th></th>\n",
       "      <th>dem</th>\n",
       "      <th>maioria</th>\n",
       "      <th>minoria</th>\n",
       "      <th>pcdob</th>\n",
       "      <th>pdt</th>\n",
       "      <th>pen</th>\n",
       "      <th>phs</th>\n",
       "      <th>pmb</th>\n",
       "      <th>pmdb</th>\n",
       "      <th>pmn</th>\n",
       "      <th>...</th>\n",
       "      <th>psol</th>\n",
       "      <th>pstu</th>\n",
       "      <th>pt</th>\n",
       "      <th>ptb</th>\n",
       "      <th>ptc</th>\n",
       "      <th>ptdob</th>\n",
       "      <th>ptn</th>\n",
       "      <th>pv</th>\n",
       "      <th>rede</th>\n",
       "      <th>sd</th>\n",
       "    </tr>\n",
       "    <tr>\n",
       "      <th>datavotacao</th>\n",
       "      <th></th>\n",
       "      <th></th>\n",
       "      <th></th>\n",
       "      <th></th>\n",
       "      <th></th>\n",
       "      <th></th>\n",
       "      <th></th>\n",
       "      <th></th>\n",
       "      <th></th>\n",
       "      <th></th>\n",
       "      <th></th>\n",
       "      <th></th>\n",
       "      <th></th>\n",
       "      <th></th>\n",
       "      <th></th>\n",
       "      <th></th>\n",
       "      <th></th>\n",
       "      <th></th>\n",
       "      <th></th>\n",
       "      <th></th>\n",
       "      <th></th>\n",
       "    </tr>\n",
       "  </thead>\n",
       "  <tbody>\n",
       "    <tr>\n",
       "      <th>1998-11-04 17:46:00</th>\n",
       "      <td>1</td>\n",
       "      <td>0</td>\n",
       "      <td>0</td>\n",
       "      <td>0</td>\n",
       "      <td>0</td>\n",
       "      <td>0</td>\n",
       "      <td>0</td>\n",
       "      <td>0</td>\n",
       "      <td>1</td>\n",
       "      <td>0</td>\n",
       "      <td>...</td>\n",
       "      <td>0</td>\n",
       "      <td>0</td>\n",
       "      <td>0</td>\n",
       "      <td>1</td>\n",
       "      <td>0</td>\n",
       "      <td>0</td>\n",
       "      <td>0</td>\n",
       "      <td>0</td>\n",
       "      <td>0</td>\n",
       "      <td>0</td>\n",
       "    </tr>\n",
       "  </tbody>\n",
       "</table>\n",
       "<p>1 rows × 34 columns</p>\n",
       "</div>"
      ],
      "text/plain": [
       "                     dem  maioria  minoria  pcdob  pdt  pen  phs  pmb  pmdb  \\\n",
       "datavotacao                                                                   \n",
       "1998-11-04 17:46:00    1        0        0      0    0    0    0    0     1   \n",
       "\n",
       "                     pmn ...  psol  pstu  pt  ptb  ptc  ptdob  ptn  pv  rede  \\\n",
       "datavotacao              ...                                                   \n",
       "1998-11-04 17:46:00    0 ...     0     0   0    1    0      0    0   0     0   \n",
       "\n",
       "                     sd  \n",
       "datavotacao              \n",
       "1998-11-04 17:46:00   0  \n",
       "\n",
       "[1 rows x 34 columns]"
      ]
     },
     "execution_count": 166,
     "metadata": {},
     "output_type": "execute_result"
    }
   ],
   "source": [
    "print(len(fidelidade_partido))\n",
    "fidelidade_partido.head(1)"
   ]
  },
  {
   "cell_type": "code",
   "execution_count": 124,
   "metadata": {
    "collapsed": true
   },
   "outputs": [],
   "source": [
    "votacao_id_table = pd.read_sql_query('SELECT * FROM desenv.id_proposicao_com_orient_governo',\n",
    "                                        conn)"
   ]
  },
  {
   "cell_type": "code",
   "execution_count": 151,
   "metadata": {
    "collapsed": true
   },
   "outputs": [],
   "source": [
    "fidelidade_partido = fidelidade_partido.merge(votacao_id_table[['votacao_id',\n",
    "                                                               'datavotacao']], on='votacao_id')\n",
    "fidelidade_partido = fidelidade_partido.sort_values(by='datavotacao')"
   ]
  },
  {
   "cell_type": "code",
   "execution_count": 152,
   "metadata": {
    "collapsed": true
   },
   "outputs": [],
   "source": [
    "fidelidade_partido.index = fidelidade_partido['datavotacao']\n",
    "del fidelidade_partido['datavotacao']\n",
    "del fidelidade_partido['index']\n",
    "del fidelidade_partido['votacao_id']"
   ]
  },
  {
   "cell_type": "code",
   "execution_count": 206,
   "metadata": {
    "collapsed": true
   },
   "outputs": [],
   "source": [
    "# VERIFICAR SE TEMPO ESTÁ DO MAIS ANTIGO PRO MAIS NOVO\n",
    "fidelidade_partido.sort_index(inplace=True)"
   ]
  },
  {
   "cell_type": "code",
   "execution_count": 173,
   "metadata": {
    "scrolled": true
   },
   "outputs": [
    {
     "data": {
      "text/html": [
       "<iframe id=\"igraph\" scrolling=\"no\" style=\"border:none;\" seamless=\"seamless\" src=\"https://plot.ly/~joaocarabettafgv/2.embed\" height=\"525px\" width=\"100%\"></iframe>"
      ],
      "text/plain": [
       "<plotly.tools.PlotlyDisplay object>"
      ]
     },
     "execution_count": 173,
     "metadata": {},
     "output_type": "execute_result"
    }
   ],
   "source": [
    "data = []\n",
    "\n",
    "#### MEDIA FIXA 30 VOTACOES\n",
    "for partido, cor in partidos_relevantes.items():\n",
    "    d = go.Scatter(\n",
    "                name = partido.upper(),\n",
    "                mode = 'lines',\n",
    "                line = dict(\n",
    "                            color = (cor),\n",
    "                            width = 2),\n",
    "                x = fidelidade_partido.index,\n",
    "                y = dema(fidelidade_partido[partido], halflife=60)\n",
    "        )\n",
    "    data.append(d)\n",
    "\n",
    "layout = dict(title = 'Apoio ao Governo das Bancadas por Orientação na Câmara ',\n",
    "              xaxis = dict(rangeslider=dict(),\n",
    "                            type='date'),\n",
    "              yaxis = dict(title = 'Apoio ao Governo'))\n",
    "    \n",
    "              \n",
    "fig = dict(data = data, layout=layout)\n",
    "py.iplot(fig, filename='Apoio Governo Bancadas')"
   ]
  }
 ],
 "metadata": {
  "kernelspec": {
   "display_name": "Python 3",
   "language": "python",
   "name": "python3"
  },
  "language_info": {
   "codemirror_mode": {
    "name": "ipython",
    "version": 3
   },
   "file_extension": ".py",
   "mimetype": "text/x-python",
   "name": "python",
   "nbconvert_exporter": "python",
   "pygments_lexer": "ipython3",
   "version": "3.5.2+"
  }
 },
 "nbformat": 4,
 "nbformat_minor": 2
}
