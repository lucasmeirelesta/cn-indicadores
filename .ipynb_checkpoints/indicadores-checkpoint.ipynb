{
 "cells": [
  {
   "cell_type": "markdown",
   "metadata": {},
   "source": [
    "# Criação de indicadores para o Congresso\n",
    "\n",
    "Geração de indicadores para os relatórios mensais do Congresso em Números"
   ]
  },
  {
   "cell_type": "code",
   "execution_count": 2,
   "metadata": {
    "collapsed": true
   },
   "outputs": [],
   "source": [
    "# Create a connection to the database\n",
    "library('RPostgreSQL')\n",
    "pg = dbDriver(\"PostgreSQL\")\n",
    "con = dbConnect(pg, user=\"cts\", password=\"senhaCTS2017_\",\n",
    "                 host=\"172.16.4.229\", port=5432, dbname=\"cts\")"
   ]
  },
  {
   "cell_type": "markdown",
   "metadata": {},
   "source": [
    "__TODO__\n",
    "\n",
    "Criar indicadores para o Congresso que comporão os relatórios mensais do Congresso em Números:\n",
    "\n",
    "Seção 1 - Apoio ao governo\n",
    "1. Índice de apoio ao Governo - Votação: índice mensal de votos acompanhando a recomendação do governo;\n",
    "2. Índice de apoio ao Governo - Congressista: índice mensal de congressitas com + de X% de votação acompanhando o governo;\n",
    "3. Índice de apoio ao Governo - Partidos: índice mensal de apoio ao governo de acordo com o partido;\n",
    "4. Índice de apoio ao Governo - Câmara vs Senado: índice comparativo mensal de apoio na Câmara vs Senado;\n",
    "\n",
    "Seção 2 - Atividade no plenário\n",
    "1. Número de sessões plenárias na Câmara e no Senado\n",
    "2. Número de votações em plenário na Câmara e no Senado\n",
    "3. Número de matérias aprovadas e derrotadas na Câmara e no Senado\n",
    "4. Número e temas de novos projetos propostos na Câmara e no Senado\n",
    "\n",
    "Seção 3 - Atividade em comissões (?)\n",
    "\n",
    "Seção 4 - Movimentação parlamentares\n",
    "1. Exs: parlamentares que deixaram mandato, assumiram mandato, etc.\n",
    "\n",
    "Outros a serem elaborados."
   ]
  },
  {
   "cell_type": "code",
   "execution_count": null,
   "metadata": {
    "collapsed": true
   },
   "outputs": [],
   "source": []
  },
  {
   "cell_type": "code",
   "execution_count": 3,
   "metadata": {},
   "outputs": [
    {
     "data": {
      "text/html": [
       "TRUE"
      ],
      "text/latex": [
       "TRUE"
      ],
      "text/markdown": [
       "TRUE"
      ],
      "text/plain": [
       "[1] TRUE"
      ]
     },
     "metadata": {},
     "output_type": "display_data"
    }
   ],
   "source": [
    "# disconnect from the database\n",
    "dbDisconnect(con)"
   ]
  }
 ],
 "metadata": {
  "kernelspec": {
   "display_name": "R",
   "language": "R",
   "name": "ir"
  },
  "language_info": {
   "codemirror_mode": "r",
   "file_extension": ".r",
   "mimetype": "text/x-r-source",
   "name": "R",
   "pygments_lexer": "r",
   "version": "3.3.1"
  }
 },
 "nbformat": 4,
 "nbformat_minor": 2
}
